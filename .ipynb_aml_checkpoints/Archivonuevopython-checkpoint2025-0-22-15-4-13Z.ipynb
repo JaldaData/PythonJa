{
 "cells": [
  {
   "cell_type": "code",
   "execution_count": 1,
   "metadata": {},
   "outputs": [
    {
     "name": "stdout",
     "output_type": "stream",
     "text": [
      "Hola mundo\n"
     ]
    }
   ],
   "source": [
    "def imprimeTexto(texto):\n",
    "        print(texto)\n",
    "\n",
    "imprimeTexto('Hola mundo')"
   ]
  },
  {
   "cell_type": "code",
   "execution_count": 2,
   "metadata": {},
   "outputs": [
    {
     "name": "stdout",
     "output_type": "stream",
     "text": [
      "Esto son palabras escritas\n"
     ]
    }
   ],
   "source": [
    "def imprimeTexto(texto):\n",
    "        print(texto)\n",
    "palabras = 'Esto son palabras escritas'\n",
    "\n",
    "imprimeTexto(palabras)"
   ]
  },
  {
   "cell_type": "code",
   "execution_count": 5,
   "metadata": {},
   "outputs": [
    {
     "name": "stdout",
     "output_type": "stream",
     "text": [
      "60.0\n"
     ]
    }
   ],
   "source": [
    "def calculo_comision(ventas, porc):\n",
    "    suma = 0\n",
    "    for venta in ventas:\n",
    "        suma += venta\n",
    "    comision = suma*porc/100\n",
    "    return comision\n",
    "\n",
    "ventas_reales = [100, 300, 200]\n",
    "porcentaje = 10\n",
    "valor_comision = calculo_comision(ventas_reales, porcentaje)\n",
    "print(valor_comision)"
   ]
  }
 ],
 "metadata": {
  "kernelspec": {
   "display_name": "Python 3.10 - SDK v2",
   "language": "python",
   "name": "python310-sdkv2"
  },
  "language_info": {
   "codemirror_mode": {
    "name": "ipython",
    "version": 3
   },
   "file_extension": ".py",
   "mimetype": "text/x-python",
   "name": "python",
   "nbconvert_exporter": "python",
   "pygments_lexer": "ipython3",
   "version": "3.10.14"
  }
 },
 "nbformat": 4,
 "nbformat_minor": 2
}
