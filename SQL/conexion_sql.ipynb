{
 "cells": [
  {
   "cell_type": "code",
   "execution_count": 3,
   "metadata": {},
   "outputs": [
    {
     "name": "stdout",
     "output_type": "stream",
     "text": [
      "Database conn successful\n"
     ]
    }
   ],
   "source": [
    "import psycopg2\n",
    "\n",
    "def create_server_connection():\n",
    "\n",
    "    PGHOST='ep-shy-queen-a2izrsqc.eu-central-1.aws.neon.tech'\n",
    "    PGDATABASE='datafundamentals'\n",
    "    PGUSER='datafundamentals_owner'\n",
    "    PGPASSWORD='OApta9xdrRn8'\n",
    "\n",
    "    conn = None\n",
    "    try:\n",
    "        conn = psycopg2.connect(database=PGDATABASE, user=PGUSER, password=PGPASSWORD, host=PGHOST, port=5432)\n",
    "        print(\"Database conn successful\")\n",
    "    except Error as err:\n",
    "        print(f\"Error: '{err}'\")\n",
    "\n",
    "    return conn\n",
    "\n",
    "connection = create_server_connection()\n",
    "connection.close()\n"
   ]
  },
  {
   "cell_type": "code",
   "execution_count": null,
   "metadata": {},
   "outputs": [],
   "source": []
  }
 ],
 "metadata": {
  "kernelspec": {
   "display_name": "Python 3.8 - AzureML",
   "language": "python",
   "name": "python38-azureml"
  },
  "language_info": {
   "codemirror_mode": {
    "name": "ipython",
    "version": 3
   },
   "file_extension": ".py",
   "mimetype": "text/x-python",
   "name": "python",
   "nbconvert_exporter": "python",
   "pygments_lexer": "ipython3",
   "version": "3.10.11"
  }
 },
 "nbformat": 4,
 "nbformat_minor": 2
}
