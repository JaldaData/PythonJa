{
  "cells": [
    {
      "cell_type": "code",
      "source": [
        "import numpy as np"
      ],
      "outputs": [],
      "execution_count": 1,
      "metadata": {
        "gather": {
          "logged": 1737023340804
        }
      }
    },
    {
      "cell_type": "code",
      "source": [
        "arr = np.array([2,4,5,0,6,1,5,4,1,-3])"
      ],
      "outputs": [],
      "execution_count": 2,
      "metadata": {
        "gather": {
          "logged": 1737023340974
        }
      }
    },
    {
      "cell_type": "code",
      "source": [
        "np.min(arr)"
      ],
      "outputs": [
        {
          "output_type": "execute_result",
          "execution_count": 3,
          "data": {
            "text/plain": "-3"
          },
          "metadata": {}
        }
      ],
      "execution_count": 3,
      "metadata": {
        "gather": {
          "logged": 1737023341212
        }
      }
    },
    {
      "cell_type": "code",
      "source": [
        "np.max(arr)"
      ],
      "outputs": [
        {
          "output_type": "execute_result",
          "execution_count": 4,
          "data": {
            "text/plain": "6"
          },
          "metadata": {}
        }
      ],
      "execution_count": 4,
      "metadata": {
        "gather": {
          "logged": 1737023341505
        }
      }
    },
    {
      "cell_type": "code",
      "source": [
        "np.mean(arr)"
      ],
      "outputs": [
        {
          "output_type": "execute_result",
          "execution_count": 5,
          "data": {
            "text/plain": "2.5"
          },
          "metadata": {}
        }
      ],
      "execution_count": 5,
      "metadata": {
        "gather": {
          "logged": 1737023341708
        }
      }
    },
    {
      "cell_type": "code",
      "source": [
        "np.median(arr)"
      ],
      "outputs": [
        {
          "output_type": "execute_result",
          "execution_count": 6,
          "data": {
            "text/plain": "3.0"
          },
          "metadata": {}
        }
      ],
      "execution_count": 6,
      "metadata": {
        "gather": {
          "logged": 1737023341904
        }
      }
    },
    {
      "cell_type": "code",
      "source": [
        "np.std(arr)"
      ],
      "outputs": [
        {
          "output_type": "execute_result",
          "execution_count": 7,
          "data": {
            "text/plain": "2.6551836094703507"
          },
          "metadata": {}
        }
      ],
      "execution_count": 7,
      "metadata": {
        "gather": {
          "logged": 1737023342088
        }
      }
    },
    {
      "cell_type": "code",
      "source": [
        "np.absolute(arr)"
      ],
      "outputs": [
        {
          "output_type": "execute_result",
          "execution_count": 8,
          "data": {
            "text/plain": "array([2, 4, 5, 0, 6, 1, 5, 4, 1, 3])"
          },
          "metadata": {}
        }
      ],
      "execution_count": 8,
      "metadata": {
        "gather": {
          "logged": 1737023342289
        }
      }
    },
    {
      "cell_type": "code",
      "source": [
        "np.abs(arr)"
      ],
      "outputs": [
        {
          "output_type": "execute_result",
          "execution_count": 9,
          "data": {
            "text/plain": "array([2, 4, 5, 0, 6, 1, 5, 4, 1, 3])"
          },
          "metadata": {}
        }
      ],
      "execution_count": 9,
      "metadata": {
        "gather": {
          "logged": 1737023342595
        }
      }
    },
    {
      "cell_type": "code",
      "source": [
        "np.cumsum(arr)"
      ],
      "outputs": [
        {
          "output_type": "execute_result",
          "execution_count": 10,
          "data": {
            "text/plain": "array([ 2,  6, 11, 11, 17, 18, 23, 27, 28, 25])"
          },
          "metadata": {}
        }
      ],
      "execution_count": 10,
      "metadata": {
        "gather": {
          "logged": 1737023342920
        }
      }
    },
    {
      "cell_type": "code",
      "source": [
        "np.unique(arr)"
      ],
      "outputs": [
        {
          "output_type": "execute_result",
          "execution_count": 11,
          "data": {
            "text/plain": "array([-3,  0,  1,  2,  4,  5,  6])"
          },
          "metadata": {}
        }
      ],
      "execution_count": 11,
      "metadata": {
        "gather": {
          "logged": 1737023343250
        }
      }
    },
    {
      "cell_type": "code",
      "source": [
        "np.exp(arr)"
      ],
      "outputs": [
        {
          "output_type": "execute_result",
          "execution_count": 12,
          "data": {
            "text/plain": "array([7.38905610e+00, 5.45981500e+01, 1.48413159e+02, 1.00000000e+00,\n       4.03428793e+02, 2.71828183e+00, 1.48413159e+02, 5.45981500e+01,\n       2.71828183e+00, 4.97870684e-02])"
          },
          "metadata": {}
        }
      ],
      "execution_count": 12,
      "metadata": {
        "gather": {
          "logged": 1737023343541
        }
      }
    },
    {
      "cell_type": "code",
      "source": [
        "np.info(np.prod)"
      ],
      "outputs": [
        {
          "output_type": "stream",
          "name": "stdout",
          "text": " prod(a, axis=None, dtype=None, out=None, keepdims=<no value>,\n      initial=<no value>, where=<no value>)\n\nReturn the product of array elements over a given axis.\n\nParameters\n----------\na : array_like\n    Input data.\naxis : None or int or tuple of ints, optional\n    Axis or axes along which a product is performed.  The default,\n    axis=None, will calculate the product of all the elements in the\n    input array. If axis is negative it counts from the last to the\n    first axis.\n\n    .. versionadded:: 1.7.0\n\n    If axis is a tuple of ints, a product is performed on all of the\n    axes specified in the tuple instead of a single axis or all the\n    axes as before.\ndtype : dtype, optional\n    The type of the returned array, as well as of the accumulator in\n    which the elements are multiplied.  The dtype of `a` is used by\n    default unless `a` has an integer dtype of less precision than the\n    default platform integer.  In that case, if `a` is signed then the\n    platform integer is used while if `a` is unsigned then an unsigned\n    integer of the same precision as the platform integer is used.\nout : ndarray, optional\n    Alternative output array in which to place the result. It must have\n    the same shape as the expected output, but the type of the output\n    values will be cast if necessary.\nkeepdims : bool, optional\n    If this is set to True, the axes which are reduced are left in the\n    result as dimensions with size one. With this option, the result\n    will broadcast correctly against the input array.\n\n    If the default value is passed, then `keepdims` will not be\n    passed through to the `prod` method of sub-classes of\n    `ndarray`, however any non-default value will be.  If the\n    sub-class' method does not implement `keepdims` any\n    exceptions will be raised.\ninitial : scalar, optional\n    The starting value for this product. See `~numpy.ufunc.reduce` for details.\n\n    .. versionadded:: 1.15.0\n\nwhere : array_like of bool, optional\n    Elements to include in the product. See `~numpy.ufunc.reduce` for details.\n\n    .. versionadded:: 1.17.0\n\nReturns\n-------\nproduct_along_axis : ndarray, see `dtype` parameter above.\n    An array shaped as `a` but with the specified axis removed.\n    Returns a reference to `out` if specified.\n\nSee Also\n--------\nndarray.prod : equivalent method\n:ref:`ufuncs-output-type`\n\nNotes\n-----\nArithmetic is modular when using integer types, and no error is\nraised on overflow.  That means that, on a 32-bit platform:\n\n>>> x = np.array([536870910, 536870910, 536870910, 536870910])\n>>> np.prod(x)\n16 # may vary\n\nThe product of an empty array is the neutral element 1:\n\n>>> np.prod([])\n1.0\n\nExamples\n--------\nBy default, calculate the product of all elements:\n\n>>> np.prod([1.,2.])\n2.0\n\nEven when the input array is two-dimensional:\n\n>>> np.prod([[1.,2.],[3.,4.]])\n24.0\n\nBut we can also specify the axis over which to multiply:\n\n>>> np.prod([[1.,2.],[3.,4.]], axis=1)\narray([  2.,  12.])\n\nOr select specific elements to include:\n\n>>> np.prod([1., np.nan, 3.], where=[True, False, True])\n3.0\n\nIf the type of `x` is unsigned, then the output type is\nthe unsigned platform integer:\n\n>>> x = np.array([1, 2, 3], dtype=np.uint8)\n>>> np.prod(x).dtype == np.uint\nTrue\n\nIf `x` is of a signed integer type, then the output type\nis the default platform integer:\n\n>>> x = np.array([1, 2, 3], dtype=np.int8)\n>>> np.prod(x).dtype == int\nTrue\n\nYou can also start the product with a value other than one:\n\n>>> np.prod([1, 2], initial=5)\n10\n"
        }
      ],
      "execution_count": 13,
      "metadata": {
        "gather": {
          "logged": 1737023343820
        }
      }
    },
    {
      "cell_type": "code",
      "source": [
        "np.prod(arr)"
      ],
      "outputs": [
        {
          "output_type": "execute_result",
          "execution_count": 14,
          "data": {
            "text/plain": "0"
          },
          "metadata": {}
        }
      ],
      "execution_count": 14,
      "metadata": {
        "gather": {
          "logged": 1737023344143
        }
      }
    },
    {
      "cell_type": "code",
      "source": [
        "for x in arr:\n",
        "    print(x)"
      ],
      "outputs": [
        {
          "output_type": "stream",
          "name": "stdout",
          "text": "2\n4\n5\n0\n6\n1\n5\n4\n1\n-3\n"
        }
      ],
      "execution_count": 15,
      "metadata": {
        "gather": {
          "logged": 1737023344426
        }
      }
    },
    {
      "cell_type": "code",
      "source": [
        "np.info(np.nditer)"
      ],
      "outputs": [
        {
          "output_type": "stream",
          "name": "stdout",
          "text": " nditer()\n\nnditer(op, flags=None, op_flags=None, op_dtypes=None, order='K', casting='safe', op_axes=None, itershape=None, buffersize=0)\n\nEfficient multi-dimensional iterator object to iterate over arrays.\nTo get started using this object, see the\n:ref:`introductory guide to array iteration <arrays.nditer>`.\n\nParameters\n----------\nop : ndarray or sequence of array_like\n    The array(s) to iterate over.\n\nflags : sequence of str, optional\n      Flags to control the behavior of the iterator.\n\n      * ``buffered`` enables buffering when required.\n      * ``c_index`` causes a C-order index to be tracked.\n      * ``f_index`` causes a Fortran-order index to be tracked.\n      * ``multi_index`` causes a multi-index, or a tuple of indices\n        with one per iteration dimension, to be tracked.\n      * ``common_dtype`` causes all the operands to be converted to\n        a common data type, with copying or buffering as necessary.\n      * ``copy_if_overlap`` causes the iterator to determine if read\n        operands have overlap with write operands, and make temporary\n        copies as necessary to avoid overlap. False positives (needless\n        copying) are possible in some cases.\n      * ``delay_bufalloc`` delays allocation of the buffers until\n        a reset() call is made. Allows ``allocate`` operands to\n        be initialized before their values are copied into the buffers.\n      * ``external_loop`` causes the ``values`` given to be\n        one-dimensional arrays with multiple values instead of\n        zero-dimensional arrays.\n      * ``grow_inner`` allows the ``value`` array sizes to be made\n        larger than the buffer size when both ``buffered`` and\n        ``external_loop`` is used.\n      * ``ranged`` allows the iterator to be restricted to a sub-range\n        of the iterindex values.\n      * ``refs_ok`` enables iteration of reference types, such as\n        object arrays.\n      * ``reduce_ok`` enables iteration of ``readwrite`` operands\n        which are broadcasted, also known as reduction operands.\n      * ``zerosize_ok`` allows `itersize` to be zero.\nop_flags : list of list of str, optional\n      This is a list of flags for each operand. At minimum, one of\n      ``readonly``, ``readwrite``, or ``writeonly`` must be specified.\n\n      * ``readonly`` indicates the operand will only be read from.\n      * ``readwrite`` indicates the operand will be read from and written to.\n      * ``writeonly`` indicates the operand will only be written to.\n      * ``no_broadcast`` prevents the operand from being broadcasted.\n      * ``contig`` forces the operand data to be contiguous.\n      * ``aligned`` forces the operand data to be aligned.\n      * ``nbo`` forces the operand data to be in native byte order.\n      * ``copy`` allows a temporary read-only copy if required.\n      * ``updateifcopy`` allows a temporary read-write copy if required.\n      * ``allocate`` causes the array to be allocated if it is None\n        in the ``op`` parameter.\n      * ``no_subtype`` prevents an ``allocate`` operand from using a subtype.\n      * ``arraymask`` indicates that this operand is the mask to use\n        for selecting elements when writing to operands with the\n        'writemasked' flag set. The iterator does not enforce this,\n        but when writing from a buffer back to the array, it only\n        copies those elements indicated by this mask.\n      * ``writemasked`` indicates that only elements where the chosen\n        ``arraymask`` operand is True will be written to.\n      * ``overlap_assume_elementwise`` can be used to mark operands that are\n        accessed only in the iterator order, to allow less conservative\n        copying when ``copy_if_overlap`` is present.\nop_dtypes : dtype or tuple of dtype(s), optional\n    The required data type(s) of the operands. If copying or buffering\n    is enabled, the data will be converted to/from their original types.\norder : {'C', 'F', 'A', 'K'}, optional\n    Controls the iteration order. 'C' means C order, 'F' means\n    Fortran order, 'A' means 'F' order if all the arrays are Fortran\n    contiguous, 'C' order otherwise, and 'K' means as close to the\n    order the array elements appear in memory as possible. This also\n    affects the element memory order of ``allocate`` operands, as they\n    are allocated to be compatible with iteration order.\n    Default is 'K'.\ncasting : {'no', 'equiv', 'safe', 'same_kind', 'unsafe'}, optional\n    Controls what kind of data casting may occur when making a copy\n    or buffering.  Setting this to 'unsafe' is not recommended,\n    as it can adversely affect accumulations.\n\n    * 'no' means the data types should not be cast at all.\n    * 'equiv' means only byte-order changes are allowed.\n    * 'safe' means only casts which can preserve values are allowed.\n    * 'same_kind' means only safe casts or casts within a kind,\n      like float64 to float32, are allowed.\n    * 'unsafe' means any data conversions may be done.\nop_axes : list of list of ints, optional\n    If provided, is a list of ints or None for each operands.\n    The list of axes for an operand is a mapping from the dimensions\n    of the iterator to the dimensions of the operand. A value of\n    -1 can be placed for entries, causing that dimension to be\n    treated as `newaxis`.\nitershape : tuple of ints, optional\n    The desired shape of the iterator. This allows ``allocate`` operands\n    with a dimension mapped by op_axes not corresponding to a dimension\n    of a different operand to get a value not equal to 1 for that\n    dimension.\nbuffersize : int, optional\n    When buffering is enabled, controls the size of the temporary\n    buffers. Set to 0 for the default value.\n\nAttributes\n----------\ndtypes : tuple of dtype(s)\n    The data types of the values provided in `value`. This may be\n    different from the operand data types if buffering is enabled.\n    Valid only before the iterator is closed.\nfinished : bool\n    Whether the iteration over the operands is finished or not.\nhas_delayed_bufalloc : bool\n    If True, the iterator was created with the ``delay_bufalloc`` flag,\n    and no reset() function was called on it yet.\nhas_index : bool\n    If True, the iterator was created with either the ``c_index`` or\n    the ``f_index`` flag, and the property `index` can be used to\n    retrieve it.\nhas_multi_index : bool\n    If True, the iterator was created with the ``multi_index`` flag,\n    and the property `multi_index` can be used to retrieve it.\nindex\n    When the ``c_index`` or ``f_index`` flag was used, this property\n    provides access to the index. Raises a ValueError if accessed\n    and ``has_index`` is False.\niterationneedsapi : bool\n    Whether iteration requires access to the Python API, for example\n    if one of the operands is an object array.\niterindex : int\n    An index which matches the order of iteration.\nitersize : int\n    Size of the iterator.\nitviews\n    Structured view(s) of `operands` in memory, matching the reordered\n    and optimized iterator access pattern. Valid only before the iterator\n    is closed.\nmulti_index\n    When the ``multi_index`` flag was used, this property\n    provides access to the index. Raises a ValueError if accessed\n    accessed and ``has_multi_index`` is False.\nndim : int\n    The dimensions of the iterator.\nnop : int\n    The number of iterator operands.\noperands : tuple of operand(s)\n    The array(s) to be iterated over. Valid only before the iterator is\n    closed.\nshape : tuple of ints\n    Shape tuple, the shape of the iterator.\nvalue\n    Value of ``operands`` at current iteration. Normally, this is a\n    tuple of array scalars, but if the flag ``external_loop`` is used,\n    it is a tuple of one dimensional arrays.\n\nNotes\n-----\n`nditer` supersedes `flatiter`.  The iterator implementation behind\n`nditer` is also exposed by the NumPy C API.\n\nThe Python exposure supplies two iteration interfaces, one which follows\nthe Python iterator protocol, and another which mirrors the C-style\ndo-while pattern.  The native Python approach is better in most cases, but\nif you need the coordinates or index of an iterator, use the C-style pattern.\n\nExamples\n--------\nHere is how we might write an ``iter_add`` function, using the\nPython iterator protocol:\n\n>>> def iter_add_py(x, y, out=None):\n...     addop = np.add\n...     it = np.nditer([x, y, out], [],\n...                 [['readonly'], ['readonly'], ['writeonly','allocate']])\n...     with it:\n...         for (a, b, c) in it:\n...             addop(a, b, out=c)\n...         return it.operands[2]\n\nHere is the same function, but following the C-style pattern:\n\n>>> def iter_add(x, y, out=None):\n...    addop = np.add\n...    it = np.nditer([x, y, out], [],\n...                [['readonly'], ['readonly'], ['writeonly','allocate']])\n...    with it:\n...        while not it.finished:\n...            addop(it[0], it[1], out=it[2])\n...            it.iternext()\n...        return it.operands[2]\n\nHere is an example outer product function:\n\n>>> def outer_it(x, y, out=None):\n...     mulop = np.multiply\n...     it = np.nditer([x, y, out], ['external_loop'],\n...             [['readonly'], ['readonly'], ['writeonly', 'allocate']],\n...             op_axes=[list(range(x.ndim)) + [-1] * y.ndim,\n...                      [-1] * x.ndim + list(range(y.ndim)),\n...                      None])\n...     with it:\n...         for (a, b, c) in it:\n...             mulop(a, b, out=c)\n...         return it.operands[2]\n\n>>> a = np.arange(2)+1\n>>> b = np.arange(3)+1\n>>> outer_it(a,b)\narray([[1, 2, 3],\n       [2, 4, 6]])\n\nHere is an example function which operates like a \"lambda\" ufunc:\n\n>>> def luf(lamdaexpr, *args, **kwargs):\n...    '''luf(lambdaexpr, op1, ..., opn, out=None, order='K', casting='safe', buffersize=0)'''\n...    nargs = len(args)\n...    op = (kwargs.get('out',None),) + args\n...    it = np.nditer(op, ['buffered','external_loop'],\n...            [['writeonly','allocate','no_broadcast']] +\n...                            [['readonly','nbo','aligned']]*nargs,\n...            order=kwargs.get('order','K'),\n...            casting=kwargs.get('casting','safe'),\n...            buffersize=kwargs.get('buffersize',0))\n...    while not it.finished:\n...        it[0] = lamdaexpr(*it[1:])\n...        it.iternext()\n...    return it.operands[0]\n\n>>> a = np.arange(5)\n>>> b = np.ones(5)\n>>> luf(lambda i,j:i*i + j/2, a, b)\narray([  0.5,   1.5,   4.5,   9.5,  16.5])\n\nIf operand flags ``\"writeonly\"`` or ``\"readwrite\"`` are used the\noperands may be views into the original data with the\n`WRITEBACKIFCOPY` flag. In this case `nditer` must be used as a\ncontext manager or the `nditer.close` method must be called before\nusing the result. The temporary data will be written back to the\noriginal data when the `__exit__` function is called but not before:\n\n>>> a = np.arange(6, dtype='i4')[::-2]\n>>> with np.nditer(a, [],\n...        [['writeonly', 'updateifcopy']],\n...        casting='unsafe',\n...        op_dtypes=[np.dtype('f4')]) as i:\n...    x = i.operands[0]\n...    x[:] = [-1, -2, -3]\n...    # a still unchanged here\n>>> a, x\n(array([-1, -2, -3], dtype=int32), array([-1., -2., -3.], dtype=float32))\n\nIt is important to note that once the iterator is exited, dangling\nreferences (like `x` in the example) may or may not share data with\nthe original data `a`. If writeback semantics were active, i.e. if\n`x.base.flags.writebackifcopy` is `True`, then exiting the iterator\nwill sever the connection between `x` and `a`, writing to `x` will\nno longer write to `a`. If writeback semantics are not active, then\n`x.data` will still point at some part of `a.data`, and writing to\none will affect the other.\n\nContext management and the `close` method appeared in version 1.15.0.\n\n\nMethods:\n\n  close  --  close()\n  copy  --  copy()\n  debug_print  --  debug_print()\n  enable_external_loop  --  enable_external_loop()\n  iternext  --  iternext()\n  remove_axis  --  remove_axis(i, /)\n  remove_multi_index  --  remove_multi_index()\n  reset  --  reset()\n"
        }
      ],
      "execution_count": 16,
      "metadata": {
        "gather": {
          "logged": 1737023344655
        }
      }
    },
    {
      "cell_type": "code",
      "source": [
        "np.info(np.ndenumerate)"
      ],
      "outputs": [
        {
          "output_type": "stream",
          "name": "stdout",
          "text": " ndenumerate(arr)\n\nMultidimensional index iterator.\n\nReturn an iterator yielding pairs of array coordinates and values.\n\nParameters\n----------\narr : ndarray\n  Input array.\n\nSee Also\n--------\nndindex, flatiter\n\nExamples\n--------\n>>> a = np.array([[1, 2], [3, 4]])\n>>> for index, x in np.ndenumerate(a):\n...     print(index, x)\n(0, 0) 1\n(0, 1) 2\n(1, 0) 3\n(1, 1) 4\n"
        }
      ],
      "execution_count": 17,
      "metadata": {
        "gather": {
          "logged": 1737023345179
        }
      }
    },
    {
      "cell_type": "code",
      "source": [
        "np.info(np.where)"
      ],
      "outputs": [
        {
          "output_type": "stream",
          "name": "stdout",
          "text": " where()\n\nwhere(condition, [x, y], /)\n\nReturn elements chosen from `x` or `y` depending on `condition`.\n\n.. note::\n    When only `condition` is provided, this function is a shorthand for\n    ``np.asarray(condition).nonzero()``. Using `nonzero` directly should be\n    preferred, as it behaves correctly for subclasses. The rest of this\n    documentation covers only the case where all three arguments are\n    provided.\n\nParameters\n----------\ncondition : array_like, bool\n    Where True, yield `x`, otherwise yield `y`.\nx, y : array_like\n    Values from which to choose. `x`, `y` and `condition` need to be\n    broadcastable to some shape.\n\nReturns\n-------\nout : ndarray\n    An array with elements from `x` where `condition` is True, and elements\n    from `y` elsewhere.\n\nSee Also\n--------\nchoose\nnonzero : The function that is called when x and y are omitted\n\nNotes\n-----\nIf all the arrays are 1-D, `where` is equivalent to::\n\n    [xv if c else yv\n     for c, xv, yv in zip(condition, x, y)]\n\nExamples\n--------\n>>> a = np.arange(10)\n>>> a\narray([0, 1, 2, 3, 4, 5, 6, 7, 8, 9])\n>>> np.where(a < 5, a, 10*a)\narray([ 0,  1,  2,  3,  4, 50, 60, 70, 80, 90])\n\nThis can be used on multidimensional arrays too:\n\n>>> np.where([[True, False], [True, True]],\n...          [[1, 2], [3, 4]],\n...          [[9, 8], [7, 6]])\narray([[1, 8],\n       [3, 4]])\n\nThe shapes of x, y, and the condition are broadcast together:\n\n>>> x, y = np.ogrid[:3, :4]\n>>> np.where(x < y, x, 10 + y)  # both x and 10+y are broadcast\narray([[10,  0,  0,  0],\n       [10, 11,  1,  1],\n       [10, 11, 12,  2]])\n\n>>> a = np.array([[0, 1, 2],\n...               [0, 2, 4],\n...               [0, 3, 6]])\n>>> np.where(a < 4, a, -1)  # -1 is broadcast\narray([[ 0,  1,  2],\n       [ 0,  2, -1],\n       [ 0,  3, -1]])\n"
        }
      ],
      "execution_count": 18,
      "metadata": {
        "gather": {
          "logged": 1737023345408
        }
      }
    },
    {
      "cell_type": "code",
      "source": [
        "np.where(arr == 1)"
      ],
      "outputs": [
        {
          "output_type": "execute_result",
          "execution_count": 19,
          "data": {
            "text/plain": "(array([5, 8]),)"
          },
          "metadata": {}
        }
      ],
      "execution_count": 19,
      "metadata": {
        "gather": {
          "logged": 1737023345587
        }
      }
    },
    {
      "cell_type": "code",
      "source": [
        "np.where(arr > 5)"
      ],
      "outputs": [
        {
          "output_type": "execute_result",
          "execution_count": 20,
          "data": {
            "text/plain": "(array([4]),)"
          },
          "metadata": {}
        }
      ],
      "execution_count": 20,
      "metadata": {
        "gather": {
          "logged": 1737023345868
        }
      }
    },
    {
      "cell_type": "code",
      "source": [
        "arr"
      ],
      "outputs": [
        {
          "output_type": "execute_result",
          "execution_count": 21,
          "data": {
            "text/plain": "array([ 2,  4,  5,  0,  6,  1,  5,  4,  1, -3])"
          },
          "metadata": {}
        }
      ],
      "execution_count": 21,
      "metadata": {
        "gather": {
          "logged": 1737023346166
        }
      }
    },
    {
      "cell_type": "code",
      "source": [
        "arr[arr>1]"
      ],
      "outputs": [
        {
          "output_type": "execute_result",
          "execution_count": 22,
          "data": {
            "text/plain": "array([2, 4, 5, 6, 5, 4])"
          },
          "metadata": {}
        }
      ],
      "execution_count": 22,
      "metadata": {
        "gather": {
          "logged": 1737023346371
        }
      }
    },
    {
      "cell_type": "code",
      "source": [
        "a2 = np.array([[1, 2, 3, 7, 8, 9], [4, 5, 5, 10, 11, 12]])"
      ],
      "outputs": [],
      "execution_count": 23,
      "metadata": {
        "gather": {
          "logged": 1737023346724
        }
      }
    },
    {
      "cell_type": "code",
      "source": [
        "splitted = np.array_split(arr, 3, axis=0)\n",
        "splitted"
      ],
      "outputs": [
        {
          "output_type": "execute_result",
          "execution_count": 24,
          "data": {
            "text/plain": "[array([2, 4, 5, 0]), array([6, 1, 5]), array([ 4,  1, -3])]"
          },
          "metadata": {}
        }
      ],
      "execution_count": 24,
      "metadata": {
        "gather": {
          "logged": 1737023347052
        }
      }
    },
    {
      "cell_type": "code",
      "source": [
        "splitted = np.array_split(a2, 2, axis=0)\n",
        "splitted"
      ],
      "outputs": [
        {
          "output_type": "execute_result",
          "execution_count": 25,
          "data": {
            "text/plain": "[array([[1, 2, 3, 7, 8, 9]]), array([[ 4,  5,  5, 10, 11, 12]])]"
          },
          "metadata": {}
        }
      ],
      "execution_count": 25,
      "metadata": {
        "gather": {
          "logged": 1737023347381
        }
      }
    },
    {
      "cell_type": "code",
      "source": [
        "arr5 = np.array([1, 2, np.nan, 7, 4, 0])\n",
        "print(arr5)\n",
        "sum(arr5)"
      ],
      "outputs": [
        {
          "output_type": "stream",
          "name": "stdout",
          "text": "[ 1.  2. nan  7.  4.  0.]\n"
        },
        {
          "output_type": "execute_result",
          "execution_count": 26,
          "data": {
            "text/plain": "nan"
          },
          "metadata": {}
        }
      ],
      "execution_count": 26,
      "metadata": {
        "gather": {
          "logged": 1737023347708
        }
      }
    },
    {
      "cell_type": "code",
      "source": [
        "for x in arr5:\n",
        "    if np.isnan(x):\n",
        "        x = 0\n",
        "print(arr5)"
      ],
      "outputs": [
        {
          "output_type": "stream",
          "name": "stdout",
          "text": "[ 1.  2. nan  7.  4.  0.]\n"
        }
      ],
      "execution_count": 27,
      "metadata": {
        "gather": {
          "logged": 1737023348013
        }
      }
    },
    {
      "cell_type": "code",
      "source": [
        "\n",
        "for pos in range(len(arr5)):\n",
        "    if np.isnan(arr5[pos]):\n",
        "        arr5[pos] = 0\n",
        "\n",
        "print(arr5)"
      ],
      "outputs": [
        {
          "output_type": "stream",
          "name": "stdout",
          "text": "[1. 2. 0. 7. 4. 0.]\n"
        }
      ],
      "execution_count": 28,
      "metadata": {
        "gather": {
          "logged": 1737023348261
        }
      }
    },
    {
      "cell_type": "code",
      "source": [
        "lista = [x/2 for x in arr5]\n",
        "lista"
      ],
      "outputs": [
        {
          "output_type": "execute_result",
          "execution_count": 29,
          "data": {
            "text/plain": "[0.5, 1.0, 0.0, 3.5, 2.0, 0.0]"
          },
          "metadata": {}
        }
      ],
      "execution_count": 29,
      "metadata": {
        "gather": {
          "logged": 1737023348543
        }
      }
    },
    {
      "cell_type": "code",
      "source": [
        "arr6 = np.array([1, 2, np.nan, 7, 4, 0])\n",
        "lista = [x for x in arr6 if not np.isnan(x)]\n",
        "np.array(lista)"
      ],
      "outputs": [
        {
          "output_type": "execute_result",
          "execution_count": 30,
          "data": {
            "text/plain": "array([1., 2., 7., 4., 0.])"
          },
          "metadata": {}
        }
      ],
      "execution_count": 30,
      "metadata": {
        "gather": {
          "logged": 1737023348834
        }
      }
    },
    {
      "cell_type": "code",
      "source": [
        "np.isnan(arr6)"
      ],
      "outputs": [
        {
          "output_type": "execute_result",
          "execution_count": 31,
          "data": {
            "text/plain": "array([False, False,  True, False, False, False])"
          },
          "metadata": {}
        }
      ],
      "execution_count": 31,
      "metadata": {
        "gather": {
          "logged": 1737023349151
        }
      }
    },
    {
      "cell_type": "code",
      "source": [
        "arr6[np.logical_not(np.isnan(arr6))]"
      ],
      "outputs": [
        {
          "output_type": "execute_result",
          "execution_count": 32,
          "data": {
            "text/plain": "array([1., 2., 7., 4., 0.])"
          },
          "metadata": {}
        }
      ],
      "execution_count": 32,
      "metadata": {
        "gather": {
          "logged": 1737023349434
        }
      }
    },
    {
      "cell_type": "code",
      "source": [
        "arr6[np.isfinite(arr6)]"
      ],
      "outputs": [
        {
          "output_type": "execute_result",
          "execution_count": 33,
          "data": {
            "text/plain": "array([1., 2., 7., 4., 0.])"
          },
          "metadata": {}
        }
      ],
      "execution_count": 33,
      "metadata": {
        "gather": {
          "logged": 1737023349722
        }
      }
    },
    {
      "cell_type": "code",
      "source": [
        "copia = arr6.copy()\n",
        "vista = arr6.view()\n",
        "\n",
        "print('original:', arr6)\n",
        "print('copia:', copia)\n",
        "print('vista:', vista)\n",
        "\n",
        "arr6[0] = 67\n",
        "\n",
        "print('original:', arr6)\n",
        "print('copia:', copia)\n",
        "print('vista:', vista)"
      ],
      "outputs": [
        {
          "output_type": "stream",
          "name": "stdout",
          "text": "original: [ 1.  2. nan  7.  4.  0.]\ncopia: [ 1.  2. nan  7.  4.  0.]\nvista: [ 1.  2. nan  7.  4.  0.]\noriginal: [67.  2. nan  7.  4.  0.]\ncopia: [ 1.  2. nan  7.  4.  0.]\nvista: [67.  2. nan  7.  4.  0.]\n"
        }
      ],
      "execution_count": 34,
      "metadata": {
        "gather": {
          "logged": 1737023349993
        }
      }
    },
    {
      "cell_type": "code",
      "source": [
        "arr6.dtype"
      ],
      "outputs": [
        {
          "output_type": "execute_result",
          "execution_count": 35,
          "data": {
            "text/plain": "dtype('float64')"
          },
          "metadata": {}
        }
      ],
      "execution_count": 35,
      "metadata": {
        "gather": {
          "logged": 1737023350263
        }
      }
    },
    {
      "cell_type": "code",
      "source": [
        "vista = arr6.view(dtype=np.int32)\n",
        "print('vista:', vista)"
      ],
      "outputs": [
        {
          "output_type": "stream",
          "name": "stdout",
          "text": "vista: [         0 1079033856          0 1073741824          0 2146959360\n          0 1075576832          0 1074790400          0          0]\n"
        }
      ],
      "execution_count": 36,
      "metadata": {
        "gather": {
          "logged": 1737023350536
        }
      }
    },
    {
      "cell_type": "code",
      "source": [
        "arr = np.array([1, 2, 3, 4, 5, 6, 7, 8, 9, 10, 11, 12])\n",
        "arr2 = arr.reshape([2,3,2])\n",
        "print(arr2)\n",
        "arro =arr2.reshape(12)\n",
        "arro"
      ],
      "outputs": [
        {
          "output_type": "stream",
          "name": "stdout",
          "text": "[[[ 1  2]\n  [ 3  4]\n  [ 5  6]]\n\n [[ 7  8]\n  [ 9 10]\n  [11 12]]]\n"
        },
        {
          "output_type": "execute_result",
          "execution_count": 37,
          "data": {
            "text/plain": "array([ 1,  2,  3,  4,  5,  6,  7,  8,  9, 10, 11, 12])"
          },
          "metadata": {}
        }
      ],
      "execution_count": 37,
      "metadata": {
        "gather": {
          "logged": 1737023350883
        }
      }
    },
    {
      "cell_type": "code",
      "source": [
        "a = np.array([[1, 2, 3], [4, 5, 6]])\n",
        "b = np.array([[1, 1, 1], [2, 2, 2]])\n",
        "\n",
        "print(a+b)\n",
        "print(a*b)"
      ],
      "outputs": [
        {
          "output_type": "stream",
          "name": "stdout",
          "text": "[[2 3 4]\n [6 7 8]]\n[[ 1  2  3]\n [ 8 10 12]]\n"
        }
      ],
      "execution_count": 38,
      "metadata": {
        "gather": {
          "logged": 1737023351219
        }
      }
    },
    {
      "cell_type": "code",
      "source": [
        "a = np.array([[1, 2], [4, 5]])\n",
        "b = np.array([[1, 1], [2, 2]])\n",
        "\n",
        "print(a*b)"
      ],
      "outputs": [
        {
          "output_type": "stream",
          "name": "stdout",
          "text": "[[ 1  2]\n [ 8 10]]\n"
        }
      ],
      "execution_count": 39,
      "metadata": {
        "gather": {
          "logged": 1737023351511
        }
      }
    },
    {
      "cell_type": "code",
      "source": [
        "print(a.trace)"
      ],
      "outputs": [
        {
          "output_type": "stream",
          "name": "stdout",
          "text": "<built-in method trace of numpy.ndarray object at 0x7f7ec2f76d90>\n"
        }
      ],
      "execution_count": 40,
      "metadata": {
        "gather": {
          "logged": 1737023351790
        }
      }
    },
    {
      "cell_type": "code",
      "source": [
        "np.linalg.det(a)"
      ],
      "outputs": [
        {
          "output_type": "execute_result",
          "execution_count": 41,
          "data": {
            "text/plain": "-2.9999999999999996"
          },
          "metadata": {}
        }
      ],
      "execution_count": 41,
      "metadata": {
        "gather": {
          "logged": 1737023352152
        }
      }
    },
    {
      "cell_type": "code",
      "source": [
        "# 1x + 2y =1\n",
        "# 3x + 5y =2\n",
        "a = np.array([[1,2],[3,5]])\n",
        "b = np.array([1,2])\n",
        "\n",
        "np.linalg.solve(a, b)"
      ],
      "outputs": [
        {
          "output_type": "execute_result",
          "execution_count": 42,
          "data": {
            "text/plain": "array([-1.,  1.])"
          },
          "metadata": {}
        }
      ],
      "execution_count": 42,
      "metadata": {
        "gather": {
          "logged": 1737023352506
        }
      }
    },
    {
      "cell_type": "code",
      "source": [
        "# Ejercicio 1 Numpy\n",
        "a1 = np.arange(6)\n",
        "print(a1)\n",
        "a2 = np.random.random([3,2])\n",
        "print(a2)\n",
        "a3 = np.random.random([2,3,4])\n",
        "print(a3)"
      ],
      "outputs": [
        {
          "output_type": "stream",
          "name": "stdout",
          "text": "[0 1 2 3 4 5]\n[[0.09626622 0.01584993]\n [0.28594345 0.7861468 ]\n [0.45931727 0.20921485]]\n[[[0.46861951 0.13610876 0.90121442 0.31974569]\n  [0.61955505 0.17633189 0.63927017 0.16691762]\n  [0.55820009 0.0460982  0.54225881 0.30255626]]\n\n [[0.63117444 0.49648186 0.9946968  0.05775935]\n  [0.92372439 0.8228938  0.14527231 0.42902757]\n  [0.8996204  0.38993898 0.94557873 0.61004702]]]\n"
        }
      ],
      "execution_count": 43,
      "metadata": {
        "gather": {
          "logged": 1737023352896
        }
      }
    },
    {
      "cell_type": "code",
      "source": [
        "print(a1.ndim)"
      ],
      "outputs": [
        {
          "output_type": "stream",
          "name": "stdout",
          "text": "1\n"
        }
      ],
      "execution_count": 44,
      "metadata": {
        "gather": {
          "logged": 1737023353225
        }
      }
    },
    {
      "cell_type": "code",
      "source": [
        "#Ejercicio 2\n",
        "\n",
        "def funcion_est(array):\n",
        "\n",
        "    if array.ndim == 1:\n",
        "\n",
        "        estadis = {\n",
        "        'q1': np.percentile(array,25),\n",
        "        'q2': np.percentile(array,50),\n",
        "        'q3': np.percentile(array,75),\n",
        "        'mediana': np.median(array),\n",
        "        'media': np.mean(array),\n",
        "        'varianza': np.var(array),\n",
        "        'desviacion_estandar': np.std(array),\n",
        "        'minimo': np.min(array),\n",
        "        'maximo': np.max(array),\n",
        "        }\n",
        "    \n",
        "        return estadis\n",
        "    else:\n",
        "        return 'No es de una dimension'\n",
        "\n",
        "funcion_est(a1)\n",
        "\n"
      ],
      "outputs": [
        {
          "output_type": "execute_result",
          "execution_count": 48,
          "data": {
            "text/plain": "{'q1': 1.25,\n 'q2': 2.5,\n 'q3': 3.75,\n 'mediana': 2.5,\n 'media': 2.5,\n 'varianza': 2.9166666666666665,\n 'desviacion_estandar': 1.707825127659933,\n 'minimo': 0,\n 'maximo': 5}"
          },
          "metadata": {}
        }
      ],
      "execution_count": 48,
      "metadata": {
        "gather": {
          "logged": 1737023494354
        }
      }
    },
    {
      "cell_type": "code",
      "source": [
        "#Ejercicio 3\n",
        "arr = np.array([[[1, 2, 3], [4, 5, 6]], [[7, 8, 9], [10, 11, 12]], [[13, 14, 15],[16, 17, 18]], [[19, 20, 21],[22, 23, 24]] ])\n",
        "arr\n",
        "#"
      ],
      "outputs": [
        {
          "output_type": "execute_result",
          "execution_count": 49,
          "data": {
            "text/plain": "array([[[ 1,  2,  3],\n        [ 4,  5,  6]],\n\n       [[ 7,  8,  9],\n        [10, 11, 12]],\n\n       [[13, 14, 15],\n        [16, 17, 18]],\n\n       [[19, 20, 21],\n        [22, 23, 24]]])"
          },
          "metadata": {}
        }
      ],
      "execution_count": 49,
      "metadata": {
        "gather": {
          "logged": 1737023507104
        }
      }
    },
    {
      "cell_type": "code",
      "source": [
        "arr[-1, -1, -1] \n",
        "'24'"
      ],
      "outputs": [
        {
          "output_type": "execute_result",
          "execution_count": 51,
          "data": {
            "text/plain": "'24'"
          },
          "metadata": {}
        }
      ],
      "execution_count": 51,
      "metadata": {
        "gather": {
          "logged": 1737023530991
        }
      }
    },
    {
      "cell_type": "code",
      "source": [
        "arr[0,1,:]\n",
        "'4, 5, 6'"
      ],
      "outputs": [],
      "execution_count": null,
      "metadata": {
        "gather": {
          "logged": 1737023353894
        }
      }
    },
    {
      "cell_type": "code",
      "source": [
        "arr[:,0,:]\n",
        "'1, 2, 3'\n",
        "print(arr[:,0,:])"
      ],
      "outputs": [
        {
          "output_type": "stream",
          "name": "stdout",
          "text": "[[ 1  2  3]\n [ 7  8  9]\n [13 14 15]\n [19 20 21]]\n"
        }
      ],
      "execution_count": 52,
      "metadata": {
        "gather": {
          "logged": 1737023707414
        }
      }
    },
    {
      "cell_type": "code",
      "source": [
        "arr[:,:,-1]\n",
        "print(arr[:,:,-1])"
      ],
      "outputs": [
        {
          "output_type": "stream",
          "name": "stdout",
          "text": "[[ 3  6]\n [ 9 12]\n [15 18]\n [21 24]]\n"
        }
      ],
      "execution_count": 53,
      "metadata": {
        "gather": {
          "logged": 1737023769600
        }
      }
    },
    {
      "cell_type": "code",
      "source": [
        "arr[1,2,3]\n",
        "print(arr[1,2,3])"
      ],
      "outputs": [
        {
          "output_type": "error",
          "ename": "IndexError",
          "evalue": "index 2 is out of bounds for axis 1 with size 2",
          "traceback": [
            "\u001b[0;31m---------------------------------------------------------------------------\u001b[0m",
            "\u001b[0;31mIndexError\u001b[0m                                Traceback (most recent call last)",
            "Cell \u001b[0;32mIn[54], line 1\u001b[0m\n\u001b[0;32m----> 1\u001b[0m \u001b[43marr\u001b[49m\u001b[43m[\u001b[49m\u001b[38;5;241;43m1\u001b[39;49m\u001b[43m,\u001b[49m\u001b[38;5;241;43m2\u001b[39;49m\u001b[43m,\u001b[49m\u001b[38;5;241;43m3\u001b[39;49m\u001b[43m]\u001b[49m\n\u001b[1;32m      2\u001b[0m \u001b[38;5;28mprint\u001b[39m(arr[\u001b[38;5;241m1\u001b[39m,\u001b[38;5;241m2\u001b[39m,\u001b[38;5;241m3\u001b[39m])\n",
            "\u001b[0;31mIndexError\u001b[0m: index 2 is out of bounds for axis 1 with size 2"
          ]
        }
      ],
      "execution_count": 54,
      "metadata": {
        "gather": {
          "logged": 1737023946328
        }
      }
    },
    {
      "cell_type": "code",
      "source": [
        "arr[2,1,0]\n",
        "print(arr[2,1,0])"
      ],
      "outputs": [
        {
          "output_type": "stream",
          "name": "stdout",
          "text": "16\n"
        }
      ],
      "execution_count": 55,
      "metadata": {
        "gather": {
          "logged": 1737023967412
        }
      }
    },
    {
      "cell_type": "code",
      "source": [
        "arr[::2,:,:]\n",
        "print(arr[::2,:,:])"
      ],
      "outputs": [
        {
          "output_type": "stream",
          "name": "stdout",
          "text": "[[[ 1  2  3]\n  [ 4  5  6]]\n\n [[13 14 15]\n  [16 17 18]]]\n"
        }
      ],
      "execution_count": 56,
      "metadata": {
        "gather": {
          "logged": 1737023983051
        }
      }
    },
    {
      "cell_type": "code",
      "source": [
        "#Ejercicio 4\n",
        "'Crea un array de 3 x 3 que contenga valores aleatorios entre el 0 y el 100. Tendrás que usar el submódulo random. Una vez tengas el código, transfórmalo a una función que te permita crear arrays de tamaño N x N'\n",
        "\n",
        "np.random.random([3,3])*100"
      ],
      "outputs": [
        {
          "output_type": "execute_result",
          "execution_count": 59,
          "data": {
            "text/plain": "array([[96.21285063, 46.18825161, 75.70414005],\n       [14.09662023, 46.41781872, 47.90769569],\n       [60.93333818, 37.35361844, 13.65661289]])"
          },
          "metadata": {}
        }
      ],
      "execution_count": 59,
      "metadata": {
        "gather": {
          "logged": 1737024416611
        }
      }
    },
    {
      "cell_type": "code",
      "source": [],
      "outputs": [],
      "execution_count": null,
      "metadata": {}
    },
    {
      "cell_type": "code",
      "source": [],
      "outputs": [],
      "execution_count": null,
      "metadata": {}
    },
    {
      "cell_type": "code",
      "source": [
        "'Ejercicio 5'\n",
        "'Crea una función que dependa de un número. Si la función se ejecuta con el número 5, debe devolver el siguiente array'\n",
        "'1 1 1 1 1'\n",
        "'1 0 0 0 1'\n",
        "'1 0 0 0 1'\n",
        "'1 0 0 0 1'\n",
        "'1 1 1 1 1'\n",
        "\n",
        "aone = np.ones([5,5])\n",
        "print(aone)\n",
        "acero = np.zeros([3,3])\n",
        "print(acero)\n",
        "\n",
        "aone[1:4,1:4] = 0\n",
        "\n",
        "print(aone)\n"
      ],
      "outputs": [
        {
          "output_type": "stream",
          "name": "stdout",
          "text": "[[1. 1. 1. 1. 1.]\n [1. 1. 1. 1. 1.]\n [1. 1. 1. 1. 1.]\n [1. 1. 1. 1. 1.]\n [1. 1. 1. 1. 1.]]\n[[0. 0. 0.]\n [0. 0. 0.]\n [0. 0. 0.]]\n[[1. 1. 1. 1. 1.]\n [1. 0. 0. 0. 1.]\n [1. 0. 0. 0. 1.]\n [1. 0. 0. 0. 1.]\n [1. 1. 1. 1. 1.]]\n"
        }
      ],
      "execution_count": 63,
      "metadata": {
        "gather": {
          "logged": 1737025101395
        }
      }
    },
    {
      "cell_type": "code",
      "source": [
        "def gen_cuadrado_1_0(n):\n",
        "    ones"
      ],
      "outputs": [],
      "execution_count": null,
      "metadata": {}
    },
    {
      "cell_type": "code",
      "source": [
        "' Ejercicio 6 Crea una función que te detecte las dimensiones de un array, y te diga cuántos datos faltantes contiene. Crea unos datos de ejemplo para comprobarlo'\n",
        "arr1 = np.ones([3,3])\n",
        "arr1[1,1] = np.nan\n",
        "arr1[2,0] = np.nan\n",
        "arr1"
      ],
      "outputs": [
        {
          "output_type": "execute_result",
          "execution_count": 66,
          "data": {
            "text/plain": "array([[ 1.,  1.,  1.],\n       [ 1., nan,  1.],\n       [nan,  1.,  1.]])"
          },
          "metadata": {}
        }
      ],
      "execution_count": 66,
      "metadata": {
        "gather": {
          "logged": 1737025685221
        }
      }
    },
    {
      "cell_type": "code",
      "source": [
        "'Ejercicio7 Crea una fución que te calcule los márgenes de una tabla, es decir, la suma por columnas, la suma por filas y el total. Idealmente, añadelo a la tabla original'\n",
        "\n",
        "arr = np.array([[3,2,1,2], [6,7,9,5]])\n",
        "arr"
      ],
      "outputs": [
        {
          "output_type": "execute_result",
          "execution_count": 64,
          "data": {
            "text/plain": "array([[3, 2, 1, 2],\n       [6, 7, 9, 5]])"
          },
          "metadata": {}
        }
      ],
      "execution_count": 64,
      "metadata": {
        "gather": {
          "logged": 1737025505604
        }
      }
    },
    {
      "cell_type": "code",
      "source": [
        "help(np.hstack)\n",
        "help(np.vstack)"
      ],
      "outputs": [
        {
          "output_type": "stream",
          "name": "stdout",
          "text": "Help on function hstack in module numpy:\n\nhstack(tup)\n    Stack arrays in sequence horizontally (column wise).\n    \n    This is equivalent to concatenation along the second axis, except for 1-D\n    arrays where it concatenates along the first axis. Rebuilds arrays divided\n    by `hsplit`.\n    \n    This function makes most sense for arrays with up to 3 dimensions. For\n    instance, for pixel-data with a height (first axis), width (second axis),\n    and r/g/b channels (third axis). The functions `concatenate`, `stack` and\n    `block` provide more general stacking and concatenation operations.\n    \n    Parameters\n    ----------\n    tup : sequence of ndarrays\n        The arrays must have the same shape along all but the second axis,\n        except 1-D arrays which can be any length.\n    \n    Returns\n    -------\n    stacked : ndarray\n        The array formed by stacking the given arrays.\n    \n    See Also\n    --------\n    concatenate : Join a sequence of arrays along an existing axis.\n    stack : Join a sequence of arrays along a new axis.\n    block : Assemble an nd-array from nested lists of blocks.\n    vstack : Stack arrays in sequence vertically (row wise).\n    dstack : Stack arrays in sequence depth wise (along third axis).\n    column_stack : Stack 1-D arrays as columns into a 2-D array.\n    hsplit : Split an array into multiple sub-arrays horizontally (column-wise).\n    \n    Examples\n    --------\n    >>> a = np.array((1,2,3))\n    >>> b = np.array((4,5,6))\n    >>> np.hstack((a,b))\n    array([1, 2, 3, 4, 5, 6])\n    >>> a = np.array([[1],[2],[3]])\n    >>> b = np.array([[4],[5],[6]])\n    >>> np.hstack((a,b))\n    array([[1, 4],\n           [2, 5],\n           [3, 6]])\n\nHelp on function vstack in module numpy:\n\nvstack(tup)\n    Stack arrays in sequence vertically (row wise).\n    \n    This is equivalent to concatenation along the first axis after 1-D arrays\n    of shape `(N,)` have been reshaped to `(1,N)`. Rebuilds arrays divided by\n    `vsplit`.\n    \n    This function makes most sense for arrays with up to 3 dimensions. For\n    instance, for pixel-data with a height (first axis), width (second axis),\n    and r/g/b channels (third axis). The functions `concatenate`, `stack` and\n    `block` provide more general stacking and concatenation operations.\n    \n    Parameters\n    ----------\n    tup : sequence of ndarrays\n        The arrays must have the same shape along all but the first axis.\n        1-D arrays must have the same length.\n    \n    Returns\n    -------\n    stacked : ndarray\n        The array formed by stacking the given arrays, will be at least 2-D.\n    \n    See Also\n    --------\n    concatenate : Join a sequence of arrays along an existing axis.\n    stack : Join a sequence of arrays along a new axis.\n    block : Assemble an nd-array from nested lists of blocks.\n    hstack : Stack arrays in sequence horizontally (column wise).\n    dstack : Stack arrays in sequence depth wise (along third axis).\n    column_stack : Stack 1-D arrays as columns into a 2-D array.\n    vsplit : Split an array into multiple sub-arrays vertically (row-wise).\n    \n    Examples\n    --------\n    >>> a = np.array([1, 2, 3])\n    >>> b = np.array([4, 5, 6])\n    >>> np.vstack((a,b))\n    array([[1, 2, 3],\n           [4, 5, 6]])\n    \n    >>> a = np.array([[1], [2], [3]])\n    >>> b = np.array([[4], [5], [6]])\n    >>> np.vstack((a,b))\n    array([[1],\n           [2],\n           [3],\n           [4],\n           [5],\n           [6]])\n\n"
        }
      ],
      "execution_count": 72,
      "metadata": {
        "gather": {
          "logged": 1737026149705
        }
      }
    },
    {
      "cell_type": "code",
      "source": [
        "sum_fil = (np.sum(arr, axis=1)).reshape(-1,1)\n",
        "sum_col = (np.sum(arr, axis=0))\n",
        "total = np.sum(arr)\n",
        "\n",
        "#print(sum_fil)\n",
        "#print(sum_col)\n",
        "#print(total)\n",
        "\n",
        "tabla_filas = np.hstack((arr,sum_fil))\n",
        "ultima_fila = np.hstack([sum_col, total])\n",
        "tabla_margenes = np.vstack((tabla_filas, ultima_fila))\n",
        "print(tabla_margenes)\n"
      ],
      "outputs": [
        {
          "output_type": "stream",
          "name": "stdout",
          "text": "[[ 3  2  1  2  8]\n [ 6  7  9  5 27]\n [ 9  9 10  7 35]]\n"
        }
      ],
      "execution_count": 85,
      "metadata": {
        "gather": {
          "logged": 1737027301802
        }
      }
    },
    {
      "cell_type": "code",
      "source": [
        "def gen_tabla_margenes(array):\n",
        "    sum_fil = (np.sum(array, axis=1)).reshape(-1,1)\n",
        "    sum_col = (np.sum(array, axis=0))\n",
        "    total = np.sum(array)\n",
        "    tabla_filas = np.hstack((array,sum_fil))\n",
        "    ultima_fila = np.hstack([sum_col, total])\n",
        "    tabla_margenes = np.vstack((tabla_filas, ultima_fila))\n",
        "\n",
        "    return(tabla_margenes)\n",
        "\n",
        "gen_tabla_margenes(arr)"
      ],
      "outputs": [
        {
          "output_type": "execute_result",
          "execution_count": 86,
          "data": {
            "text/plain": "array([[ 3,  2,  1,  2,  8],\n       [ 6,  7,  9,  5, 27],\n       [ 9,  9, 10,  7, 35]])"
          },
          "metadata": {}
        }
      ],
      "execution_count": 86,
      "metadata": {
        "gather": {
          "logged": 1737027443722
        }
      }
    },
    {
      "cell_type": "code",
      "source": [
        "'Ejercicio 8'\n",
        "'Crea una función que dados dos arrays X e Y, te calcule el coeficiente de correlación entre ellos usando la siguiente fórmula'\n",
        "\n",
        "'https://wikimedia.org/api/rest_v1/media/math/render/svg/2b9c2079a3ffc1aacd36201ea0a3fb2460dc226f'\n",
        "\n",
        "x = np.array([2,3,4,6,7,8,9,7])\n",
        "y = np.array([5,6,8,5,10,8,9,5])"
      ],
      "outputs": [],
      "execution_count": null,
      "metadata": {}
    },
    {
      "cell_type": "code",
      "source": [
        "x = np.array([2,3,4,6,7,8,9,7])\n",
        "y = np.array([5,6,8,5,10,8,9,5])\n",
        "\n",
        "media_x = np.mean(x)\n",
        "media_y = np.mean(y)"
      ],
      "outputs": [],
      "execution_count": 89,
      "metadata": {
        "gather": {
          "logged": 1737027858427
        }
      }
    },
    {
      "cell_type": "code",
      "source": [
        "numerador = np.sum((x-media_x)*(y-media_y))"
      ],
      "outputs": [],
      "execution_count": 90,
      "metadata": {
        "gather": {
          "logged": 1737027888988
        }
      }
    },
    {
      "cell_type": "code",
      "source": [
        "denominador = np.sqrt(np.sum((x-media_x)**2))*np.sqrt(np.sum((y-media_y)**2))"
      ],
      "outputs": [],
      "execution_count": 92,
      "metadata": {
        "gather": {
          "logged": 1737028048816
        }
      }
    },
    {
      "cell_type": "code",
      "source": [
        "corr = numerador/denominador\n",
        "corr"
      ],
      "outputs": [
        {
          "output_type": "execute_result",
          "execution_count": 93,
          "data": {
            "text/plain": "0.5157614295551275"
          },
          "metadata": {}
        }
      ],
      "execution_count": 93,
      "metadata": {
        "gather": {
          "logged": 1737028080949
        }
      }
    },
    {
      "cell_type": "code",
      "source": [
        "def coef_corr(x,y):\n",
        "  \n",
        "   media_x = np.mean(x)\n",
        "   media_y = np.mean(y)\n",
        "   numerador = np.sum((x-media_x)*(y-media_y))\n",
        "   denominador = np.sqrt(np.sum((x-media_x)**2))*np.sqrt(np.sum((y-media_y)**2))\n",
        "\n",
        "   if denominador == 0:\n",
        "    return 'Error, denominador 0'\n",
        "\n",
        "   corr = numerador/denominador\n",
        "\n",
        "   return corr"
      ],
      "outputs": [],
      "execution_count": null,
      "metadata": {}
    }
  ],
  "metadata": {
    "kernelspec": {
      "name": "python38-azureml",
      "language": "python",
      "display_name": "Python 3.8 - AzureML"
    },
    "language_info": {
      "name": "python",
      "version": "3.10.11",
      "mimetype": "text/x-python",
      "codemirror_mode": {
        "name": "ipython",
        "version": 3
      },
      "pygments_lexer": "ipython3",
      "nbconvert_exporter": "python",
      "file_extension": ".py"
    },
    "kernel_info": {
      "name": "python38-azureml"
    },
    "nteract": {
      "version": "nteract-front-end@1.0.0"
    }
  },
  "nbformat": 4,
  "nbformat_minor": 2
}