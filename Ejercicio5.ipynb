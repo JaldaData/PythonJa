{
 "cells": [
  {
   "cell_type": "code",
   "execution_count": 2,
   "metadata": {},
   "outputs": [
    {
     "name": "stdout",
     "output_type": "stream",
     "text": [
      "[1, 2, 3, 4]\n",
      "[1, 2, 3]\n"
     ]
    }
   ],
   "source": [
    "def addelemslista(unalista):\n",
    "    interno = list(unalista)\n",
    "    interno.append(4)\n",
    "    return interno\n",
    "\n",
    "l1 = [1, 2, 3]\n",
    "l2 = addelemslista(l1)\n",
    "\n",
    "print(l2)\n",
    "print(l1)\n"
   ]
  },
  {
   "cell_type": "code",
   "execution_count": 4,
   "metadata": {},
   "outputs": [
    {
     "data": {
      "text/plain": [
       "3"
      ]
     },
     "execution_count": 4,
     "metadata": {},
     "output_type": "execute_result"
    }
   ],
   "source": [
    "def suma(a, b):\n",
    "    return a+b\n",
    "\n",
    "val = suma (b=1, a=2)\n",
    "val"
   ]
  },
  {
   "cell_type": "code",
   "execution_count": 10,
   "metadata": {},
   "outputs": [
    {
     "name": "stdout",
     "output_type": "stream",
     "text": [
      "(1, 2, 3, 4)\n",
      "1 2 3 4\n",
      "2 4 6 8\n"
     ]
    }
   ],
   "source": [
    "def suma2(*args):\n",
    "    (a, b, c, d) = args\n",
    "    print(args)\n",
    "    print(a, b, c, d)\n",
    "    return (a*2, b*2, c*2, d*2)\n",
    "\n",
    "w, x, y, z = suma2(1,2,3,4)\n",
    "\n",
    "print(w, x, y, z)"
   ]
  },
  {
   "cell_type": "code",
   "execution_count": 15,
   "metadata": {},
   "outputs": [
    {
     "name": "stdout",
     "output_type": "stream",
     "text": [
      "1156\n",
      "1156\n"
     ]
    }
   ],
   "source": [
    "def cuadro(n):\n",
    "    return n**2\n",
    "\n",
    "cuadrol = lambda n: n**2\n",
    "\n",
    "type(cuadrol)\n",
    "\n",
    "print(cuadrol(34))\n",
    "print(cuadro(34))\n"
   ]
  },
  {
   "cell_type": "code",
   "execution_count": 18,
   "metadata": {},
   "outputs": [
    {
     "name": "stdout",
     "output_type": "stream",
     "text": [
      "2\n",
      "<function <lambda> at 0x7f351044b490>\n",
      "4\n"
     ]
    }
   ],
   "source": [
    "def funcionespecial( num, unafuncion):\n",
    "    print(num)\n",
    "    print(unafuncion)\n",
    "    res = unafuncion(num)\n",
    "    print(res)\n",
    "\n",
    "unNum = 2\n",
    "\n",
    "\"\"\"def mifunc(val):\n",
    "    return val*2\n",
    "\n",
    "funcionespecial(unNum, mifunc)\"\"\"\n",
    "\n",
    "funcionespecial(unNum, lambda x: x*2)"
   ]
  },
  {
   "cell_type": "code",
   "execution_count": 5,
   "metadata": {},
   "outputs": [
    {
     "data": {
      "text/plain": [
       "True"
      ]
     },
     "execution_count": 5,
     "metadata": {},
     "output_type": "execute_result"
    }
   ],
   "source": [
    "\"\"\"Implementa una función que verifique si una palabra dada es un palíndromo (se lee igual adelante o atrás).\n",
    "- Implementa un función que reciba una serie de números como parámetro y determine cuantos impares hay en ella.\n",
    "- Dada una lista de alumnos, donde cada alumno es un dictionario con \"nombre, direccion y edad\"; implementa una solución basada en funciones que transforme la letra intermedia (o más cercana al centro) del nombre de cada alumno en mayúscula y el resto en minúsculas.\n",
    "\t+ Pedro > peDro, Luis > luIs\n",
    "- Dada una lista de alumnos anterior, donde cada alumno es un dictionario con nombre, direccion y edad; implementa una solución basada en funciones que transforme la lista en dos listas de tuplas del tipo (nombre, direccion), (nombre, edad).\n",
    "- Escribe una expresión lambda que eleve al cubo todos los números de la lista siguiente: [1,2,3,4,5,6,7,8], usando la función map\"\"\"\n",
    "\n",
    "texto = input(\"Introducir palabra\")\n",
    "\n",
    "def palindromo(palabra):\n",
    "        letrasinvertida =''.join(reversed(list(palabra)))\n",
    "        ispal = palabra == letrasinvertida\n",
    "        return ispal\n",
    "        \n",
    "\n",
    "              \n",
    "    \n",
    "palindromo(texto)"
   ]
  }
 ],
 "metadata": {
  "kernelspec": {
   "display_name": "Python 3.10 - SDK v2",
   "language": "python",
   "name": "python310-sdkv2"
  },
  "language_info": {
   "codemirror_mode": {
    "name": "ipython",
    "version": 3
   },
   "file_extension": ".py",
   "mimetype": "text/x-python",
   "name": "python",
   "nbconvert_exporter": "python",
   "pygments_lexer": "ipython3",
   "version": "3.10.14"
  }
 },
 "nbformat": 4,
 "nbformat_minor": 2
}
