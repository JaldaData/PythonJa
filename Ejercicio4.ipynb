{
 "cells": [
  {
   "cell_type": "code",
   "execution_count": 4,
   "metadata": {},
   "outputs": [
    {
     "data": {
      "text/plain": [
       "' Se tiene una lista de alumnos con sus asignaturas y la nota más alta y nota más baja de cada una. \\nGenera un programa que permita completar y extraer datos estadísticos de la lista de la siguiente manera: \\n\\t1- Completar la nota media de cada alumno por asignatura.\\n\\t2- Obtener la media global por asignatura.\\n\\t3- Obtener la media global por alumno.\\n\\t4- Obtener la media global de todos los alumnos.\\n\\t5- Obtener para un alumno determinado, la nota media.\\n\\t6- Obtener los alumnos con una nota media superior o igual a un número dado (5).\\n\\t7- Salir\\nHaz que el programa solicite la opción que quieres ejecutar el prompt '"
      ]
     },
     "execution_count": 4,
     "metadata": {},
     "output_type": "execute_result"
    }
   ],
   "source": [
    "# Ejercicio 4\n",
    "\"\"\" Se tiene una lista de alumnos con sus asignaturas y la nota más alta y nota más baja de cada una. \n",
    "Genera un programa que permita completar y extraer datos estadísticos de la lista de la siguiente manera: \n",
    "\t1- Completar la nota media de cada alumno por asignatura.\n",
    "\t2- Obtener la media global por asignatura.\n",
    "\t3- Obtener la media global por alumno.\n",
    "\t4- Obtener la media global de todos los alumnos.\n",
    "\t5- Obtener para un alumno determinado, la nota media.\n",
    "\t6- Obtener los alumnos con una nota media superior o igual a un número dado (5).\n",
    "\t7- Salir\n",
    "Haz que el programa solicite la opción que quieres ejecutar el prompt \"\"\""
   ]
  },
  {
   "cell_type": "code",
   "execution_count": 5,
   "metadata": {},
   "outputs": [],
   "source": [
    "notas = {\n",
    "\"Sosanna\": [{'maths': (4, 3)}, {'lang': (5, 5)}], \n",
    "\"Rosalind\": [{'maths': (8, 6)}, {'lang': (10, 5)}], \n",
    "\"Gaspar\": [{'maths': (1, 6)}, {'lang': (7, 5)}], \n",
    "\"Herve\": [{'maths': (2, 5)}, {'lang': (8, 2)}], \n",
    "\"Jayme\": [{'maths': (5, 1)}, {'lang': (10, 7)}], \n",
    "\"Dasya\": [{'maths': (5, 3)}, {'lang': (8, 2)}], \n",
    "\"Christean\": [{'maths': (2, 10)}, {'lang': (3, 6)}], \n",
    "\"Risa\": [{'maths': (9, 9)}, {'lang': (2, 7)}], \n",
    "\"Florenza\": [{'maths': (10, 6)}, {'lang': (5, 5)}], \n",
    "\"Donella\": [{'maths': (10, 3)}, {'lang': (8, 3)}], \n",
    "\"Cesaro\": [{'maths': (2, 4)}, {'lang': (1, 7)}], \n",
    "\"Beatrisa\": [{'maths': (9, 2)}, {'lang': (1, 5)}], \n",
    "\"Thain\": [{'maths': (1, 7)}, {'lang': (6, 3)}], \n",
    "\"Shaylah\": [{'maths': (6, 7)}, {'lang': (2, 1)}], \n",
    "\"Anne-marie\": [{'maths': (4, 6)}, {'lang': (4, 3)}], \n",
    "\"Swen\": [{'maths': (8, 5)}, {'lang': (7, 6)}], \n",
    "\"Vaclav\": [{'maths': (1, 4)}, {'lang': (9, 10)}], \n",
    "\"Hermine\": [{'maths': (2, 1)}, {'lang': (8, 1)}], \n",
    "\"Sybyl\": [{'maths': (10, 2)}, {'lang': (3, 10)}], \n",
    "\"Ynes\": [{'maths': (6, 10)}, {'lang': (3, 2)}], \n",
    "\"Antonie\": [{'maths': (9, 3)}, {'lang': (4, 9)}], \n",
    "\"Trixie\": [{'maths': (9, 10)}, {'lang': (5, 4)}], \n",
    "\"Mathilde\": [{'maths': (4, 5)}, {'lang': (8, 1)}], \n",
    "\"Merlina\": [{'maths': (6, 8)}, {'lang': (4, 6)}], \n",
    "\"Zared\": [{'maths': (1, 9)}, {'lang': (5, 3)}], \n",
    "\"Brandais\": [{'maths': (3, 3)}, {'lang': (7, 1)}], \n",
    "\"Reggie\": [{'maths': (10, 2)}, {'lang': (10, 8)}], \n",
    "\"Burk\": [{'maths': (8, 7)}, {'lang': (5, 5)}], \n",
    "\"Seymour\": [{'maths': (5, 8)}, {'lang': (8, 3)}], \n",
    "\"Fergus\": [{'maths': (2, 3)}, {'lang': (5, 5)}], \n",
    "\"Jeanette\": [{'maths': (1, 5)}, {'lang': (5, 4)}], \n",
    "\"Arther\": [{'maths': (5, 5)}, {'lang': (9, 5)}], \n",
    "\"Avictor\": [{'maths': (9, 2)}, {'lang': (8, 5)}], \n",
    "\"Lynette\": [{'maths': (7, 2)}, {'lang': (10, 6)}], \n",
    "\"Briano\": [{'maths': (2, 2)}, {'lang': (4, 6)}], \n",
    "\"Daveta\": [{'maths': (4, 7)}, {'lang': (2, 9)}], \n",
    "\"Devonne\": [{'maths': (10, 2)}, {'lang': (6, 8)}], \n",
    "\"Chiarra\": [{'maths': (6, 1)}, {'lang': (4, 3)}], \n",
    "\"Torrey\": [{'maths': (2, 9)}, {'lang': (1, 3)}], \n",
    "\"Hattie\": [{'maths': (2, 5)}, {'lang': (7, 2)}], \n",
    "\"Florenza\": [{'maths': (10, 5)}, {'lang': (4, 4)}], \n",
    "\"Veronica\": [{'maths': (8, 6)}, {'lang': (3, 4)}], \n",
    "\"Jared\": [{'maths': (6, 1)}, {'lang': (1, 3)}], \n",
    "\"Lori\": [{'maths': (6, 1)}, {'lang': (10, 10)}], \n",
    "\"Kristopher\": [{'maths': (1, 2)}, {'lang': (4, 9)}], \n",
    "\"Jeanne\": [{'maths': (1, 1)}, {'lang': (1, 4)}], \n",
    "\"Maximilian\": [{'maths': (3, 3)}, {'lang': (10, 9)}], \n",
    "\"Merrily\": [{'maths': (5, 7)}, {'lang': (1, 3)}], \n",
    "\"Skipton\": [{'maths': (9, 6)}, {'lang': (4, 9)}], \n",
    "\"Tom\": [{'maths': (10, 5)}, {'lang': (1, 7)}], \n",
    "\"Cirilo\": [{'maths': (2, 2)}, {'lang': (6, 6)}], \n",
    "\"Warde\": [{'maths': (8, 7)}, {'lang': (9, 5)}], \n",
    "\"Woodie\": [{'maths': (10, 3)}, {'lang': (2, 1)}], \n",
    "\"Odetta\": [{'maths': (3, 7)}, {'lang': (7, 9)}], \n",
    "\"Cordelie\": [{'maths': (2, 3)}, {'lang': (9, 1)}], \n",
    "\"Wilow\": [{'maths': (10, 8)}, {'lang': (2, 6)}], \n",
    "\"Charissa\": [{'maths': (5, 3)}, {'lang': (5, 10)}], \n",
    "\"Ralina\": [{'maths': (10, 9)}, {'lang': (8, 2)}], \n",
    "\"Charisse\": [{'maths': (6, 5)}, {'lang': (1, 9)}], \n",
    "\"Huntley\": [{'maths': (8, 7)}, {'lang': (10, 3)}], \n",
    "\"Ella\": [{'maths': (4, 3)}, {'lang': (6, 8)}], \n",
    "\"Nelli\": [{'maths': (2, 6)}, {'lang': (5, 10)}], \n",
    "\"Gearalt\": [{'maths': (4, 9)}, {'lang': (4, 4)}], \n",
    "\"Zahara\": [{'maths': (2, 1)}, {'lang': (1, 4)}], \n",
    "\"Dilan\": [{'maths': (8, 6)}, {'lang': (7, 6)}], \n",
    "\"Frederique\": [{'maths': (5, 10)}, {'lang': (2, 8)}], \n",
    "\"Saba\": [{'maths': (9, 8)}, {'lang': (9, 9)}], \n",
    "\"Natalya\": [{'maths': (1, 5)}, {'lang': (5, 2)}], \n",
    "\"Myrah\": [{'maths': (3, 8)}, {'lang': (3, 5)}], \n",
    "\"Magnum\": [{'maths': (7, 1)}, {'lang': (2, 9)}], \n",
    "\"Grace\": [{'maths': (9, 4)}, {'lang': (6, 6)}], \n",
    "\"Ilysa\": [{'maths': (10, 9)}, {'lang': (8, 8)}], \n",
    "\"Clerkclaude\": [{'maths': (7, 2)}, {'lang': (10, 2)}], \n",
    "\"Yetty\": [{'maths': (8, 6)}, {'lang': (2, 4)}], \n",
    "\"Cassandre\": [{'maths': (6, 1)}, {'lang': (9, 5)}], \n",
    "\"Olympie\": [{'maths': (3, 3)}, {'lang': (10, 3)}], \n",
    "\"Joshuah\": [{'maths': (7, 7)}, {'lang': (9, 2)}], \n",
    "\"Kristine\": [{'maths': (3, 4)}, {'lang': (7, 7)}], \n",
    "\"Dean\": [{'maths': (8, 6)}, {'lang': (10, 10)}], \n",
    "\"Ilyssa\": [{'maths': (9, 7)}, {'lang': (5, 3)}], \n",
    "\"Nannie\": [{'maths': (6, 9)}, {'lang': (2, 10)}], \n",
    "\"Feodor\": [{'maths': (5, 6)}, {'lang': (3, 7)}], \n",
    "\"Guglielma\": [{'maths': (10, 3)}, {'lang': (9, 6)}], \n",
    "\"Alla\": [{'maths': (9, 10)}, {'lang': (7, 7)}], \n",
    "\"Rowland\": [{'maths': (4, 10)}, {'lang': (8, 7)}], \n",
    "\"Miquela\": [{'maths': (7, 5)}, {'lang': (2, 7)}], \n",
    "\"Sapphira\": [{'maths': (4, 6)}, {'lang': (5, 2)}], \n",
    "\"Zorina\": [{'maths': (3, 2)}, {'lang': (4, 9)}], \n",
    "\"Rosemonde\": [{'maths': (10, 6)}, {'lang': (9, 9)}], \n",
    "\"Alisa\": [{'maths': (1, 4)}, {'lang': (9, 5)}], \n",
    "\"Ginger\": [{'maths': (3, 4)}, {'lang': (1, 2)}], \n",
    "\"Karlis\": [{'maths': (9, 8)}, {'lang': (3, 1)}], \n",
    "\"Robbin\": [{'maths': (7, 5)}, {'lang': (10, 8)}], \n",
    "\"Kimberly\": [{'maths': (3, 7)}, {'lang': (8, 1)}], \n",
    "\"Udale\": [{'maths': (7, 1)}, {'lang': (1, 7)}], \n",
    "\"Isidor\": [{'maths': (8, 2)}, {'lang': (6, 3)}], \n",
    "\"Farlee\": [{'maths': (5, 10)}, {'lang': (9, 9)}], \n",
    "\"Katleen\": [{'maths': (8, 6)}, {'lang': (9, 3)}], \n",
    "\"Nanine\": [{'maths': (5, 7)}, {'lang': (9, 9)}], \n",
    "\"Marlow\": [{'maths': (2, 4)}, {'lang': (5, 2)}]\n",
    "}\n",
    "notas2 = dict(notas)"
   ]
  },
  {
   "cell_type": "code",
   "execution_count": 6,
   "metadata": {},
   "outputs": [
    {
     "name": "stdout",
     "output_type": "stream",
     "text": [
      "\n",
      "Opciones:\n",
      "1- Completar la nota media de cada alumno por asignatura.\n",
      "2- Obtener la media global por asignatura.\n",
      "3- Obtener la media global por alumno.\n",
      "4- Obtener la media global de todos los alumnos.\n",
      "5- Obtener para un alumno determinado, la nota media.\n",
      "6- Obtener los alumnos con una nota media superior o igual a un número dado.\n",
      "7- Salir\n",
      "Nota media completada para cada alumno por asignatura.\n",
      "\n",
      "Opciones:\n",
      "1- Completar la nota media de cada alumno por asignatura.\n",
      "2- Obtener la media global por asignatura.\n",
      "3- Obtener la media global por alumno.\n",
      "4- Obtener la media global de todos los alumnos.\n",
      "5- Obtener para un alumno determinado, la nota media.\n",
      "6- Obtener los alumnos con una nota media superior o igual a un número dado.\n",
      "7- Salir\n"
     ]
    }
   ],
   "source": [
    "# Menú de opciones\n",
    "while True:\n",
    "    print(\"\\nOpciones:\")\n",
    "    print(\"1- Completar la nota media de cada alumno por asignatura.\")\n",
    "    print(\"2- Obtener la media global por asignatura.\")\n",
    "    print(\"3- Obtener la media global por alumno.\")\n",
    "    print(\"4- Obtener la media global de todos los alumnos.\")\n",
    "    print(\"5- Obtener para un alumno determinado, la nota media.\")\n",
    "    print(\"6- Obtener los alumnos con una nota media superior o igual a un número dado.\")\n",
    "    print(\"7- Salir\")\n",
    "    \n",
    "    opcion = int(input(\"Seleccione una opción: \"))\n",
    "    \n",
    "    if opcion == 1: # completar la nota media de cada alumno por asignatura\n",
    "        completar_nota_media(notas2)\n",
    "        print(\"Nota media completada para cada alumno por asignatura.\")\n",
    "    \n",
    "    elif opcion == 2:\n",
    "        \n",
    "        print(\"Media global por asignatura:\")\n",
    "        for asignatura, media in medias_asignaturas.items():\n",
    "            print(f\"{asignatura}: {media}\")\n",
    "    \n",
    "  \n",
    "    elif opcion == 7:\n",
    "        break\n",
    "    \n",
    "    else:\n",
    "        print(\"Opción no válida. Intente nuevamente.\")\n",
    "        break\n"
   ]
  },
  {
   "cell_type": "code",
   "execution_count": 9,
   "metadata": {},
   "outputs": [
    {
     "name": "stdout",
     "output_type": "stream",
     "text": [
      "{'lang': (5, 5, 5.0)}\n",
      "{'Sosanna': [{'maths': (4, 3, 3.5)}, {'lang': (5, 5, 5.0)}], 'Rosalind': [{'maths': (8, 6, 7.0)}, {'lang': (10, 5, 7.5)}], 'Gaspar': [{'maths': (1, 6, 3.5)}, {'lang': (7, 5, 6.0)}], 'Herve': [{'maths': (2, 5, 3.5)}, {'lang': (8, 2, 5.0)}], 'Jayme': [{'maths': (5, 1, 3.0)}, {'lang': (10, 7, 8.5)}], 'Dasya': [{'maths': (5, 3, 4.0)}, {'lang': (8, 2, 5.0)}], 'Christean': [{'maths': (2, 10, 6.0)}, {'lang': (3, 6, 4.5)}], 'Risa': [{'maths': (9, 9, 9.0)}, {'lang': (2, 7, 4.5)}], 'Florenza': [{'maths': (10, 5, 7.5)}, {'lang': (4, 4, 4.0)}], 'Donella': [{'maths': (10, 3, 6.5)}, {'lang': (8, 3, 5.5)}], 'Cesaro': [{'maths': (2, 4, 3.0)}, {'lang': (1, 7, 4.0)}], 'Beatrisa': [{'maths': (9, 2, 5.5)}, {'lang': (1, 5, 3.0)}], 'Thain': [{'maths': (1, 7, 4.0)}, {'lang': (6, 3, 4.5)}], 'Shaylah': [{'maths': (6, 7, 6.5)}, {'lang': (2, 1, 1.5)}], 'Anne-marie': [{'maths': (4, 6, 5.0)}, {'lang': (4, 3, 3.5)}], 'Swen': [{'maths': (8, 5, 6.5)}, {'lang': (7, 6, 6.5)}], 'Vaclav': [{'maths': (1, 4, 2.5)}, {'lang': (9, 10, 9.5)}], 'Hermine': [{'maths': (2, 1, 1.5)}, {'lang': (8, 1, 4.5)}], 'Sybyl': [{'maths': (10, 2, 6.0)}, {'lang': (3, 10, 6.5)}], 'Ynes': [{'maths': (6, 10, 8.0)}, {'lang': (3, 2, 2.5)}], 'Antonie': [{'maths': (9, 3, 6.0)}, {'lang': (4, 9, 6.5)}], 'Trixie': [{'maths': (9, 10, 9.5)}, {'lang': (5, 4, 4.5)}], 'Mathilde': [{'maths': (4, 5, 4.5)}, {'lang': (8, 1, 4.5)}], 'Merlina': [{'maths': (6, 8, 7.0)}, {'lang': (4, 6, 5.0)}], 'Zared': [{'maths': (1, 9, 5.0)}, {'lang': (5, 3, 4.0)}], 'Brandais': [{'maths': (3, 3, 3.0)}, {'lang': (7, 1, 4.0)}], 'Reggie': [{'maths': (10, 2, 6.0)}, {'lang': (10, 8, 9.0)}], 'Burk': [{'maths': (8, 7, 7.5)}, {'lang': (5, 5, 5.0)}], 'Seymour': [{'maths': (5, 8, 6.5)}, {'lang': (8, 3, 5.5)}], 'Fergus': [{'maths': (2, 3, 2.5)}, {'lang': (5, 5, 5.0)}], 'Jeanette': [{'maths': (1, 5, 3.0)}, {'lang': (5, 4, 4.5)}], 'Arther': [{'maths': (5, 5, 5.0)}, {'lang': (9, 5, 7.0)}], 'Avictor': [{'maths': (9, 2, 5.5)}, {'lang': (8, 5, 6.5)}], 'Lynette': [{'maths': (7, 2, 4.5)}, {'lang': (10, 6, 8.0)}], 'Briano': [{'maths': (2, 2, 2.0)}, {'lang': (4, 6, 5.0)}], 'Daveta': [{'maths': (4, 7, 5.5)}, {'lang': (2, 9, 5.5)}], 'Devonne': [{'maths': (10, 2, 6.0)}, {'lang': (6, 8, 7.0)}], 'Chiarra': [{'maths': (6, 1, 3.5)}, {'lang': (4, 3, 3.5)}], 'Torrey': [{'maths': (2, 9, 5.5)}, {'lang': (1, 3, 2.0)}], 'Hattie': [{'maths': (2, 5, 3.5)}, {'lang': (7, 2, 4.5)}], 'Veronica': [{'maths': (8, 6, 7.0)}, {'lang': (3, 4, 3.5)}], 'Jared': [{'maths': (6, 1, 3.5)}, {'lang': (1, 3, 2.0)}], 'Lori': [{'maths': (6, 1, 3.5)}, {'lang': (10, 10, 10.0)}], 'Kristopher': [{'maths': (1, 2, 1.5)}, {'lang': (4, 9, 6.5)}], 'Jeanne': [{'maths': (1, 1, 1.0)}, {'lang': (1, 4, 2.5)}], 'Maximilian': [{'maths': (3, 3, 3.0)}, {'lang': (10, 9, 9.5)}], 'Merrily': [{'maths': (5, 7, 6.0)}, {'lang': (1, 3, 2.0)}], 'Skipton': [{'maths': (9, 6, 7.5)}, {'lang': (4, 9, 6.5)}], 'Tom': [{'maths': (10, 5, 7.5)}, {'lang': (1, 7, 4.0)}], 'Cirilo': [{'maths': (2, 2, 2.0)}, {'lang': (6, 6, 6.0)}], 'Warde': [{'maths': (8, 7, 7.5)}, {'lang': (9, 5, 7.0)}], 'Woodie': [{'maths': (10, 3, 6.5)}, {'lang': (2, 1, 1.5)}], 'Odetta': [{'maths': (3, 7, 5.0)}, {'lang': (7, 9, 8.0)}], 'Cordelie': [{'maths': (2, 3, 2.5)}, {'lang': (9, 1, 5.0)}], 'Wilow': [{'maths': (10, 8, 9.0)}, {'lang': (2, 6, 4.0)}], 'Charissa': [{'maths': (5, 3, 4.0)}, {'lang': (5, 10, 7.5)}], 'Ralina': [{'maths': (10, 9, 9.5)}, {'lang': (8, 2, 5.0)}], 'Charisse': [{'maths': (6, 5, 5.5)}, {'lang': (1, 9, 5.0)}], 'Huntley': [{'maths': (8, 7, 7.5)}, {'lang': (10, 3, 6.5)}], 'Ella': [{'maths': (4, 3, 3.5)}, {'lang': (6, 8, 7.0)}], 'Nelli': [{'maths': (2, 6, 4.0)}, {'lang': (5, 10, 7.5)}], 'Gearalt': [{'maths': (4, 9, 6.5)}, {'lang': (4, 4, 4.0)}], 'Zahara': [{'maths': (2, 1, 1.5)}, {'lang': (1, 4, 2.5)}], 'Dilan': [{'maths': (8, 6, 7.0)}, {'lang': (7, 6, 6.5)}], 'Frederique': [{'maths': (5, 10, 7.5)}, {'lang': (2, 8, 5.0)}], 'Saba': [{'maths': (9, 8, 8.5)}, {'lang': (9, 9, 9.0)}], 'Natalya': [{'maths': (1, 5, 3.0)}, {'lang': (5, 2, 3.5)}], 'Myrah': [{'maths': (3, 8, 5.5)}, {'lang': (3, 5, 4.0)}], 'Magnum': [{'maths': (7, 1, 4.0)}, {'lang': (2, 9, 5.5)}], 'Grace': [{'maths': (9, 4, 6.5)}, {'lang': (6, 6, 6.0)}], 'Ilysa': [{'maths': (10, 9, 9.5)}, {'lang': (8, 8, 8.0)}], 'Clerkclaude': [{'maths': (7, 2, 4.5)}, {'lang': (10, 2, 6.0)}], 'Yetty': [{'maths': (8, 6, 7.0)}, {'lang': (2, 4, 3.0)}], 'Cassandre': [{'maths': (6, 1, 3.5)}, {'lang': (9, 5, 7.0)}], 'Olympie': [{'maths': (3, 3, 3.0)}, {'lang': (10, 3, 6.5)}], 'Joshuah': [{'maths': (7, 7, 7.0)}, {'lang': (9, 2, 5.5)}], 'Kristine': [{'maths': (3, 4, 3.5)}, {'lang': (7, 7, 7.0)}], 'Dean': [{'maths': (8, 6, 7.0)}, {'lang': (10, 10, 10.0)}], 'Ilyssa': [{'maths': (9, 7, 8.0)}, {'lang': (5, 3, 4.0)}], 'Nannie': [{'maths': (6, 9, 7.5)}, {'lang': (2, 10, 6.0)}], 'Feodor': [{'maths': (5, 6, 5.5)}, {'lang': (3, 7, 5.0)}], 'Guglielma': [{'maths': (10, 3, 6.5)}, {'lang': (9, 6, 7.5)}], 'Alla': [{'maths': (9, 10, 9.5)}, {'lang': (7, 7, 7.0)}], 'Rowland': [{'maths': (4, 10, 7.0)}, {'lang': (8, 7, 7.5)}], 'Miquela': [{'maths': (7, 5, 6.0)}, {'lang': (2, 7, 4.5)}], 'Sapphira': [{'maths': (4, 6, 5.0)}, {'lang': (5, 2, 3.5)}], 'Zorina': [{'maths': (3, 2, 2.5)}, {'lang': (4, 9, 6.5)}], 'Rosemonde': [{'maths': (10, 6, 8.0)}, {'lang': (9, 9, 9.0)}], 'Alisa': [{'maths': (1, 4, 2.5)}, {'lang': (9, 5, 7.0)}], 'Ginger': [{'maths': (3, 4, 3.5)}, {'lang': (1, 2, 1.5)}], 'Karlis': [{'maths': (9, 8, 8.5)}, {'lang': (3, 1, 2.0)}], 'Robbin': [{'maths': (7, 5, 6.0)}, {'lang': (10, 8, 9.0)}], 'Kimberly': [{'maths': (3, 7, 5.0)}, {'lang': (8, 1, 4.5)}], 'Udale': [{'maths': (7, 1, 4.0)}, {'lang': (1, 7, 4.0)}], 'Isidor': [{'maths': (8, 2, 5.0)}, {'lang': (6, 3, 4.5)}], 'Farlee': [{'maths': (5, 10, 7.5)}, {'lang': (9, 9, 9.0)}], 'Katleen': [{'maths': (8, 6, 7.0)}, {'lang': (9, 3, 6.0)}], 'Nanine': [{'maths': (5, 7, 6.0)}, {'lang': (9, 9, 9.0)}], 'Marlow': [{'maths': (2, 4, 3.0)}, {'lang': (5, 2, 3.5)}]}\n"
     ]
    }
   ],
   "source": [
    "def completar_nota_media(notas2): #Funcion para completar la nota media de cada alumno por asignatura\n",
    "    for alumno, calificacion in notas2.items():\n",
    "        for notas_materia in calificacion:\n",
    "            for asignatur, (nota_1, nota_2) in notas_materia.items():\n",
    "                nota_media = (nota_1 + nota_2)/2\n",
    "                notas_materia[asignatur] = (nota_1, nota_2, nota_media) #se añade el valor de la nota media a la tupla \"value\" del diccionario \"notas_materia\" con \"key\" asignatur\n",
    "    return notas_materia\n",
    "\n",
    "print(calificacion)   \n",
    "print(notas2)"
   ]
  },
  {
   "cell_type": "code",
   "execution_count": 8,
   "metadata": {},
   "outputs": [
    {
     "name": "stdout",
     "output_type": "stream",
     "text": [
      "{'maths': 0.03535353535353535}\n"
     ]
    },
    {
     "ename": "TypeError",
     "evalue": "'float' object is not iterable",
     "output_type": "error",
     "traceback": [
      "\u001b[0;31m---------------------------------------------------------------------------\u001b[0m",
      "\u001b[0;31mTypeError\u001b[0m                                 Traceback (most recent call last)",
      "Cell \u001b[0;32mIn[8], line 12\u001b[0m\n\u001b[1;32m      9\u001b[0m             medias[asig]\u001b[38;5;241m.\u001b[39mappend(nota_media)\n\u001b[1;32m     11\u001b[0m \u001b[38;5;28;01mfor\u001b[39;00m asig, notes \u001b[38;5;129;01min\u001b[39;00m medias\u001b[38;5;241m.\u001b[39mitems():\n\u001b[0;32m---> 12\u001b[0m     medias[asig] \u001b[38;5;241m=\u001b[39m \u001b[38;5;28;43msum\u001b[39;49m\u001b[43m(\u001b[49m\u001b[43mnotes\u001b[49m\u001b[43m)\u001b[49m \u001b[38;5;241m/\u001b[39m \u001b[38;5;28mlen\u001b[39m(notas2)\n\u001b[1;32m     13\u001b[0m \u001b[38;5;28mprint\u001b[39m(medias)\n\u001b[1;32m     14\u001b[0m \u001b[38;5;66;03m#return medias\u001b[39;00m\n",
      "\u001b[0;31mTypeError\u001b[0m: 'float' object is not iterable"
     ]
    }
   ],
   "source": [
    "\n",
    "#if opcion == 2\n",
    "#\n",
    "medias = {}\n",
    "for materias in notas2.values():\n",
    "    for calificacion in materias:\n",
    "        for asig, (_, _, nota_media) in calificacion.items():\n",
    "            if asig not in medias:\n",
    "                    medias[asig] = []\n",
    "                    medias[asig].append(nota_media)\n",
    "    \n",
    "        for asig, notes in medias.items():\n",
    "            medias[asig] = sum(notes) / len(notas2)\n",
    "        print(medias)\n",
    "        #return medias"
   ]
  }
 ],
 "metadata": {
  "kernelspec": {
   "display_name": "Python 3.10 - SDK v2",
   "language": "python",
   "name": "python310-sdkv2"
  },
  "language_info": {
   "codemirror_mode": {
    "name": "ipython",
    "version": 3
   },
   "file_extension": ".py",
   "mimetype": "text/x-python",
   "name": "python",
   "nbconvert_exporter": "python",
   "pygments_lexer": "ipython3",
   "version": "3.10.14"
  }
 },
 "nbformat": 4,
 "nbformat_minor": 2
}
