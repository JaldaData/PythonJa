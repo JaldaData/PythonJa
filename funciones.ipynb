{
 "cells": [
  {
   "cell_type": "code",
   "execution_count": 1,
   "metadata": {},
   "outputs": [
    {
     "data": {
      "text/plain": [
       "1200.0"
      ]
     },
     "execution_count": 1,
     "metadata": {},
     "output_type": "execute_result"
    }
   ],
   "source": [
    "bool(4)\n",
    "l1 = [1, True, 'a']\n",
    "all(l1)\n",
    "l2 = [0, False]\n",
    "any(l2)\n",
    "l3 = [1,2,True]\n",
    "sum(l3)\n",
    "round(1234.4545, 2)\n",
    "round(1234.4545, -2)"
   ]
  },
  {
   "cell_type": "code",
   "execution_count": 2,
   "metadata": {},
   "outputs": [
    {
     "name": "stdout",
     "output_type": "stream",
     "text": [
      "[5, 9, 13, 17]\n"
     ]
    },
    {
     "data": {
      "text/plain": [
       "[17, 13, 9, 5]"
      ]
     },
     "execution_count": 2,
     "metadata": {},
     "output_type": "execute_result"
    }
   ],
   "source": [
    "l1 = list(range(5, 20, 4))\n",
    "print(l1)\n",
    "list(reversed(l1))"
   ]
  },
  {
   "cell_type": "code",
   "execution_count": 3,
   "metadata": {},
   "outputs": [
    {
     "name": "stdout",
     "output_type": "stream",
     "text": [
      "{'a': 1, 'b': 2, 'c': 3}\n",
      "[('a', 1), ('b', 2), ('c', 3)]\n",
      "<class 'dict'>\n",
      "<class 'list'>\n"
     ]
    }
   ],
   "source": [
    "ks = ['a','b','c']\n",
    "vs = [1,2,3]\n",
    "\n",
    "l1 = dict(zip(ks, vs))\n",
    "print (l1)\n",
    "l2 = list(zip(ks, vs))\n",
    "print (l2)\n",
    "print (type (l1))\n",
    "print (type (l2))\n"
   ]
  }
 ],
 "metadata": {
  "kernelspec": {
   "display_name": "Python 3.10 - SDK v2",
   "language": "python",
   "name": "python310-sdkv2"
  },
  "language_info": {
   "codemirror_mode": {
    "name": "ipython",
    "version": 3
   },
   "file_extension": ".py",
   "mimetype": "text/x-python",
   "name": "python",
   "nbconvert_exporter": "python",
   "pygments_lexer": "ipython3",
   "version": "3.10.14"
  }
 },
 "nbformat": 4,
 "nbformat_minor": 2
}
