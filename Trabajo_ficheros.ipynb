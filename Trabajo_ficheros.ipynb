{
 "cells": [
  {
   "cell_type": "markdown",
   "metadata": {},
   "source": [
    "### Trabajar con Archivo"
   ]
  },
  {
   "cell_type": "code",
   "execution_count": 25,
   "metadata": {},
   "outputs": [],
   "source": [
    "import os # librería del sistema operativo. Será necesario para trabajar con archivos"
   ]
  },
  {
   "cell_type": "code",
   "execution_count": 16,
   "metadata": {},
   "outputs": [
    {
     "data": {
      "text/plain": [
       "_io.TextIOWrapper"
      ]
     },
     "execution_count": 16,
     "metadata": {},
     "output_type": "execute_result"
    }
   ],
   "source": [
    "texto = \"\"\"Este es un texto que contiente\n",
    "multimples líneas OTRAS LINEAS \n",
    "más cosas\n",
    "\"\"\"\n",
    "\n",
    "raiz ='/home/azureuser/cloudfiles/code/Users/Data.jalda/PythonJa/'\n",
    "\n",
    "fout = open(raiz + \"sample.txt\", 'a')\n",
    "fout.write(texto)\n",
    "fout.close\n",
    "type(fout)\n"
   ]
  },
  {
   "cell_type": "code",
   "execution_count": 21,
   "metadata": {},
   "outputs": [
    {
     "name": "stdout",
     "output_type": "stream",
     "text": [
      "Este es un texto que contiente\n",
      "multimples líneas OTRAS LINEASEste es un texto que contiente\n",
      "multimples líneas OTRAS LINEAS\n",
      "más cosas\n",
      "\n"
     ]
    }
   ],
   "source": [
    "try:\n",
    "    f_in = open(raiz + \"sample.txt\", 'r')\n",
    "\n",
    "    for line in f_in:\n",
    "        print(line.rstrip())\n",
    "    f_in.close\n",
    "\n",
    "except Error as err:\n",
    "    print('Problema con el acceso al fichero')\n",
    "\n",
    "    "
   ]
  },
  {
   "cell_type": "code",
   "execution_count": 23,
   "metadata": {},
   "outputs": [
    {
     "name": "stdout",
     "output_type": "stream",
     "text": [
      "['Este es un texto que contiente', 'multimples líneas OTRAS LINEASEste es un texto que contiente', 'multimples líneas OTRAS LINEAS', 'más cosas', '']\n"
     ]
    }
   ],
   "source": [
    "try:\n",
    "    lista = open(raiz + \"sample.txt\", 'r').readlines()\n",
    "    netlist = list(map(lambda l: l.rstrip(), lista))\n",
    "    print(netlist)\n",
    "\n",
    "except Error as err:\n",
    "    print('problema con el acceso al fichero',err)"
   ]
  },
  {
   "cell_type": "code",
   "execution_count": 24,
   "metadata": {},
   "outputs": [
    {
     "name": "stdout",
     "output_type": "stream",
     "text": [
      "Este es un texto que contiente\n",
      "multimples líneas OTRAS LINEASEste es un texto que contiente\n",
      "multimples líneas OTRAS LINEAS \n",
      "más cosas\n",
      "\n",
      "\n"
     ]
    }
   ],
   "source": [
    "try:\n",
    "    texto = open(raiz + \"sample.txt\", 'r').read()\n",
    "    print(texto)\n",
    "\n",
    "except Error as err:\n",
    "    print('problema con el acceso al fichero',err)"
   ]
  },
  {
   "cell_type": "code",
   "execution_count": null,
   "metadata": {},
   "outputs": [
    {
     "ename": "FileNotFoundError",
     "evalue": "[Errno 2] No such file or directory: '/home/azureuser/cloudfiles/code/Users/Data.jalda/PythonJa/sample.txt'",
     "output_type": "error",
     "traceback": [
      "\u001b[0;31m---------------------------------------------------------------------------\u001b[0m",
      "\u001b[0;31mFileNotFoundError\u001b[0m                         Traceback (most recent call last)",
      "Cell \u001b[0;32mIn[29], line 9\u001b[0m\n\u001b[1;32m      6\u001b[0m isOk \u001b[38;5;241m=\u001b[39m os\u001b[38;5;241m.\u001b[39mpath\u001b[38;5;241m.\u001b[39misfile(f_path)\n\u001b[1;32m      8\u001b[0m \u001b[38;5;28;01mif\u001b[39;00m isOk:\n\u001b[0;32m----> 9\u001b[0m     \u001b[43mos\u001b[49m\u001b[38;5;241;43m.\u001b[39;49m\u001b[43mremove\u001b[49m\u001b[43m(\u001b[49m\u001b[43mf_path\u001b[49m\u001b[43m)\u001b[49m\n\u001b[1;32m     10\u001b[0m     \u001b[38;5;28mprint\u001b[39m(\u001b[38;5;124m'\u001b[39m\u001b[38;5;124mBorrado\u001b[39m\u001b[38;5;124m'\u001b[39m)\n\u001b[1;32m     11\u001b[0m \u001b[38;5;28;01melse\u001b[39;00m:\n",
      "\u001b[0;31mFileNotFoundError\u001b[0m: [Errno 2] No such file or directory: '/home/azureuser/cloudfiles/code/Users/Data.jalda/PythonJa/sample.txt'"
     ]
    }
   ],
   "source": [
    "os.remove() # para eliminar un archivo indicando la ruta del archivo\n",
    "os.rmdir() # para eliminar un directorio\n",
    "\n",
    "f_path = raiz + \"sample.txt\"\n",
    "\n",
    "isOk = os.path.isfile(f_path)\n",
    "\n",
    "if isOk:\n",
    "    os.remove(f_path)\n",
    "    print('Borrado')\n",
    "else:\n",
    "    print('No existe')\n"
   ]
  },
  {
   "cell_type": "code",
   "execution_count": null,
   "metadata": {},
   "outputs": [],
   "source": []
  }
 ],
 "metadata": {
  "kernelspec": {
   "display_name": "Python 3.10 - SDK v2",
   "language": "python",
   "name": "python310-sdkv2"
  },
  "language_info": {
   "codemirror_mode": {
    "name": "ipython",
    "version": 3
   },
   "file_extension": ".py",
   "mimetype": "text/x-python",
   "name": "python",
   "nbconvert_exporter": "python",
   "pygments_lexer": "ipython3",
   "version": "3.10.14"
  }
 },
 "nbformat": 4,
 "nbformat_minor": 2
}
